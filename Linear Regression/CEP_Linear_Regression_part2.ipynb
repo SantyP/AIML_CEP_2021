{
  "nbformat": 4,
  "nbformat_minor": 0,
  "metadata": {
    "colab": {
      "name": "CEP_Linear_Regression_part2.ipynb",
      "provenance": [],
      "collapsed_sections": [],
      "include_colab_link": true
    },
    "kernelspec": {
      "name": "python3",
      "display_name": "Python 3"
    },
    "language_info": {
      "name": "python"
    }
  },
  "cells": [
    {
      "cell_type": "markdown",
      "metadata": {
        "id": "view-in-github",
        "colab_type": "text"
      },
      "source": [
        "<a href=\"https://colab.research.google.com/github/balamurugan-palaniappan-CEP/AIML_CEP_2021/blob/main/CEP_Linear_Regression_part2.ipynb\" target=\"_parent\"><img src=\"https://colab.research.google.com/assets/colab-badge.svg\" alt=\"Open In Colab\"/></a>"
      ]
    },
    {
      "cell_type": "markdown",
      "metadata": {
        "id": "49XDDPG96YBS"
      },
      "source": [
        "$\\Huge{\\text{Linear Regression}}$\n",
        "\n",
        "$\\Large{\\text{More examples}}$\n"
      ]
    },
    {
      "cell_type": "markdown",
      "metadata": {
        "id": "eLRi3Z8M6oEb"
      },
      "source": [
        "In this session, we shall learn about some limitations of linear regression. "
      ]
    },
    {
      "cell_type": "markdown",
      "metadata": {
        "id": "omPJTFwf6tKz"
      },
      "source": [
        "Let us first consider a sample data, which will be useful for our study. "
      ]
    },
    {
      "cell_type": "code",
      "metadata": {
        "id": "EKjOKXDr60y5"
      },
      "source": [
        "#First, we import the required packages\n",
        "import pandas as pd #the pandas library is useful for data processing \n",
        "import matplotlib.pyplot as plt #the matplotlib library is useful for plotting purposes\n",
        "\n",
        "# The following python directive helps to plot the graph in the notebook directly\n",
        "%matplotlib inline"
      ],
      "execution_count": 1,
      "outputs": []
    },
    {
      "cell_type": "markdown",
      "metadata": {
        "id": "fsQxUCEy_S6o"
      },
      "source": [
        "Now let us consider a data set originally due to Anscombe.\n",
        "The data set contains a predictor and response variable."
      ]
    },
    {
      "cell_type": "code",
      "metadata": {
        "colab": {
          "base_uri": "https://localhost:8080/",
          "height": 206
        },
        "id": "IHcf8Q4q7cNX",
        "outputId": "2e9403d5-125f-4343-e9b1-53a29c25529d"
      },
      "source": [
        "#Let us explore the data and the description \n",
        "\n",
        "#Get the data from the web \n",
        "anscombe_data_2 = pd.read_csv('https://raw.githubusercontent.com/balamurugan-palaniappan-CEP/AIML_CEP_2021/main/data/anscombe_data_3.txt', delim_whitespace=True, index_col=False, header=None)\n",
        "\n",
        "#print the first few rows of the data \n",
        "anscombe_data_2.head()\n"
      ],
      "execution_count": 2,
      "outputs": [
        {
          "output_type": "execute_result",
          "data": {
            "text/html": [
              "<div>\n",
              "<style scoped>\n",
              "    .dataframe tbody tr th:only-of-type {\n",
              "        vertical-align: middle;\n",
              "    }\n",
              "\n",
              "    .dataframe tbody tr th {\n",
              "        vertical-align: top;\n",
              "    }\n",
              "\n",
              "    .dataframe thead th {\n",
              "        text-align: right;\n",
              "    }\n",
              "</style>\n",
              "<table border=\"1\" class=\"dataframe\">\n",
              "  <thead>\n",
              "    <tr style=\"text-align: right;\">\n",
              "      <th></th>\n",
              "      <th>0</th>\n",
              "      <th>1</th>\n",
              "    </tr>\n",
              "  </thead>\n",
              "  <tbody>\n",
              "    <tr>\n",
              "      <th>0</th>\n",
              "      <td>10</td>\n",
              "      <td>7.46</td>\n",
              "    </tr>\n",
              "    <tr>\n",
              "      <th>1</th>\n",
              "      <td>8</td>\n",
              "      <td>6.77</td>\n",
              "    </tr>\n",
              "    <tr>\n",
              "      <th>2</th>\n",
              "      <td>13</td>\n",
              "      <td>12.74</td>\n",
              "    </tr>\n",
              "    <tr>\n",
              "      <th>3</th>\n",
              "      <td>9</td>\n",
              "      <td>7.11</td>\n",
              "    </tr>\n",
              "    <tr>\n",
              "      <th>4</th>\n",
              "      <td>11</td>\n",
              "      <td>7.81</td>\n",
              "    </tr>\n",
              "  </tbody>\n",
              "</table>\n",
              "</div>"
            ],
            "text/plain": [
              "    0      1\n",
              "0  10   7.46\n",
              "1   8   6.77\n",
              "2  13  12.74\n",
              "3   9   7.11\n",
              "4  11   7.81"
            ]
          },
          "metadata": {},
          "execution_count": 2
        }
      ]
    },
    {
      "cell_type": "code",
      "metadata": {
        "colab": {
          "base_uri": "https://localhost:8080/"
        },
        "id": "e30rAQsUAOJU",
        "outputId": "e2a45ccf-7a1c-4f11-d651-8de8969228f0"
      },
      "source": [
        "#if you wish to print the entire data, then use the following\n",
        "print(anscombe_data_2)"
      ],
      "execution_count": 3,
      "outputs": [
        {
          "output_type": "stream",
          "name": "stdout",
          "text": [
            "     0      1\n",
            "0   10   7.46\n",
            "1    8   6.77\n",
            "2   13  12.74\n",
            "3    9   7.11\n",
            "4   11   7.81\n",
            "5   14   8.84\n",
            "6    6   6.08\n",
            "7    4   5.39\n",
            "8   12   8.15\n",
            "9    7   6.42\n",
            "10   5   5.73\n"
          ]
        }
      ]
    },
    {
      "cell_type": "markdown",
      "metadata": {
        "id": "dWpqpERQAf-T"
      },
      "source": [
        "What do the numbers in the above data mean? Let us understand the data by seeing its description. "
      ]
    },
    {
      "cell_type": "code",
      "metadata": {
        "colab": {
          "base_uri": "https://localhost:8080/"
        },
        "id": "j2pWNPCM8apJ",
        "outputId": "2f78b13e-94f5-4acc-c0c5-b4e9521babb8"
      },
      "source": [
        "import urllib.request   #this package is useful for accessing text files over internet \n",
        "anscombe_data_2_description_file = urllib.request.urlopen('https://raw.githubusercontent.com/balamurugan-palaniappan-CEP/AIML_CEP_2021/main/data/anscombe_data_2_description.txt')\n",
        "\n",
        "\n",
        "for line in anscombe_data_2_description_file:\n",
        "  decoded_line = line.decode(\"utf-8\")\n",
        "  print(decoded_line) "
      ],
      "execution_count": 4,
      "outputs": [
        {
          "output_type": "stream",
          "name": "stdout",
          "text": [
            "Contrived data set 2 constructed to showcase the limitations in linear regression. \r\n",
            "\n",
            "\r\n",
            "\n",
            "Source:\r\n",
            "\n",
            "Anscombe, F. J. (1973). Graphs in statistical analysis. American Statistician, vol. 27, Pages 17–22.\r\n",
            "\n",
            "\r\n",
            "\n",
            "Variables/Columns\r\n",
            "\n",
            "\r\n",
            "\n",
            "The first column denotes the predictor variable X\r\n",
            "\n",
            "\r\n",
            "\n",
            "The second column denotes the response variable Y\r\n",
            "\n",
            "\r\n",
            "\n"
          ]
        }
      ]
    },
    {
      "cell_type": "markdown",
      "metadata": {
        "id": "4zeP3YWfBstW"
      },
      "source": [
        "Having known the data description, let us insert the descriptions into the data now."
      ]
    },
    {
      "cell_type": "code",
      "metadata": {
        "colab": {
          "base_uri": "https://localhost:8080/",
          "height": 206
        },
        "id": "6vn3zD4SB3ht",
        "outputId": "a4107eb9-63b4-4b04-d8c2-56852c013cb0"
      },
      "source": [
        "anscombe_data_2.columns = ['X', 'Y']\n",
        "\n",
        "#check by printing the data again\n",
        "anscombe_data_2.head()"
      ],
      "execution_count": 5,
      "outputs": [
        {
          "output_type": "execute_result",
          "data": {
            "text/html": [
              "<div>\n",
              "<style scoped>\n",
              "    .dataframe tbody tr th:only-of-type {\n",
              "        vertical-align: middle;\n",
              "    }\n",
              "\n",
              "    .dataframe tbody tr th {\n",
              "        vertical-align: top;\n",
              "    }\n",
              "\n",
              "    .dataframe thead th {\n",
              "        text-align: right;\n",
              "    }\n",
              "</style>\n",
              "<table border=\"1\" class=\"dataframe\">\n",
              "  <thead>\n",
              "    <tr style=\"text-align: right;\">\n",
              "      <th></th>\n",
              "      <th>X</th>\n",
              "      <th>Y</th>\n",
              "    </tr>\n",
              "  </thead>\n",
              "  <tbody>\n",
              "    <tr>\n",
              "      <th>0</th>\n",
              "      <td>10</td>\n",
              "      <td>7.46</td>\n",
              "    </tr>\n",
              "    <tr>\n",
              "      <th>1</th>\n",
              "      <td>8</td>\n",
              "      <td>6.77</td>\n",
              "    </tr>\n",
              "    <tr>\n",
              "      <th>2</th>\n",
              "      <td>13</td>\n",
              "      <td>12.74</td>\n",
              "    </tr>\n",
              "    <tr>\n",
              "      <th>3</th>\n",
              "      <td>9</td>\n",
              "      <td>7.11</td>\n",
              "    </tr>\n",
              "    <tr>\n",
              "      <th>4</th>\n",
              "      <td>11</td>\n",
              "      <td>7.81</td>\n",
              "    </tr>\n",
              "  </tbody>\n",
              "</table>\n",
              "</div>"
            ],
            "text/plain": [
              "    X      Y\n",
              "0  10   7.46\n",
              "1   8   6.77\n",
              "2  13  12.74\n",
              "3   9   7.11\n",
              "4  11   7.81"
            ]
          },
          "metadata": {},
          "execution_count": 5
        }
      ]
    },
    {
      "cell_type": "markdown",
      "metadata": {
        "id": "oxMzgEmuBYaP"
      },
      "source": [
        "Seeing the data as mere numbers might not be interesting. So, let us use some graphical ways to visualize the data. "
      ]
    },
    {
      "cell_type": "code",
      "metadata": {
        "colab": {
          "base_uri": "https://localhost:8080/",
          "height": 295
        },
        "id": "aGs0mgVU9aTe",
        "outputId": "845a7ee3-ffac-4dea-c1df-9e8040c68488"
      },
      "source": [
        "#We will plot a scatter plot of the math score vs tissue concentration \n",
        "\n",
        "plt.scatter(anscombe_data_2['X'], anscombe_data_2['Y'])\n",
        "plt.title(\"Anscombe Data 2: X vs Y\")\n",
        "plt.xlabel(\"X\")\n",
        "plt.ylabel(\"Y\")\n",
        "plt.show()"
      ],
      "execution_count": 6,
      "outputs": [
        {
          "output_type": "display_data",
          "data": {
            "image/png": "[encoded data removed]",
            "text/plain": [
              "<Figure size 432x288 with 1 Axes>"
            ]
          },
          "metadata": {
            "needs_background": "light"
          }
        }
      ]
    },
    {
      "cell_type": "markdown",
      "metadata": {
        "id": "Lcj0fEb9mXvF"
      },
      "source": [
        "$\\large{\\text{Question:}}$ Is the trend linear (or) at least linear looking? "
      ]
    },
    {
      "cell_type": "markdown",
      "metadata": {
        "id": "JZgcnaqX-q1W"
      },
      "source": [
        "$\\Large{\\text{Computing } \\beta_0, \\beta_1 \\text{ for the Anscombe data set 2}}:$"
      ]
    },
    {
      "cell_type": "code",
      "metadata": {
        "colab": {
          "base_uri": "https://localhost:8080/"
        },
        "id": "q9X7RNSU_g4e",
        "outputId": "b548da25-9771-4c97-a86e-3966d0b7dcd7"
      },
      "source": [
        "#Let us now compute beta_0 and beta_1 from the anscombe data set 2\n",
        "n = len(anscombe_data_2.index) #number of data points in the data set\n",
        "print('number of data points in the data set:',n)"
      ],
      "execution_count": 7,
      "outputs": [
        {
          "output_type": "stream",
          "name": "stdout",
          "text": [
            "number of data points in the data set: 11\n"
          ]
        }
      ]
    },
    {
      "cell_type": "code",
      "metadata": {
        "colab": {
          "base_uri": "https://localhost:8080/"
        },
        "id": "YCuKqQqBFklC",
        "outputId": "9dfa0841-ff43-4e5c-fc89-e0be1113d7f7"
      },
      "source": [
        "#First let us compute x_bar and y_bar \n",
        "x_bar = 0 \n",
        "y_bar = 0\n",
        "\n",
        "for i in range(n): #access each row from the data set \n",
        "  x_bar += float(anscombe_data_2.iat[i,0]) #access element at X column\n",
        "  y_bar += float(anscombe_data_2.iat[i,1]) #access element at Y column\n",
        "x_bar /= n\n",
        "y_bar /= n\n",
        "print('x bar:',x_bar, 'y bar:',y_bar)"
      ],
      "execution_count": 8,
      "outputs": [
        {
          "output_type": "stream",
          "name": "stdout",
          "text": [
            "x bar: 9.0 y bar: 7.500000000000001\n"
          ]
        }
      ]
    },
    {
      "cell_type": "code",
      "metadata": {
        "colab": {
          "base_uri": "https://localhost:8080/"
        },
        "id": "yOOBCb5bFtKr",
        "outputId": "e84e3b08-73de-4016-fd5a-1fb73796bb6d"
      },
      "source": [
        "#Then we will compute Sigma_XX and Sigma_XY \n",
        "sigma_xx = 0\n",
        "sigma_xy = 0\n",
        "\n",
        "for i in range(n): #access each row from the data set \n",
        "  sigma_xx += (float(anscombe_data_2.iat[i,0]) - x_bar)**2 #computing (x^i - x_bar)^2 \n",
        "  sigma_xy += (float(anscombe_data_2.iat[i,0]) - x_bar) * (float(anscombe_data_2.iat[i,1])-y_bar) #computing (x^i - x_bar)(y^i-y_bar)\n",
        "print('sigma_xx:',sigma_xx, 'sigma_xy:',sigma_xy)"
      ],
      "execution_count": 9,
      "outputs": [
        {
          "output_type": "stream",
          "name": "stdout",
          "text": [
            "sigma_xx: 110.0 sigma_xy: 54.97\n"
          ]
        }
      ]
    },
    {
      "cell_type": "code",
      "metadata": {
        "colab": {
          "base_uri": "https://localhost:8080/"
        },
        "id": "y5WC5Rs4FuOg",
        "outputId": "1edf3046-daae-43eb-9c5a-1d94197dbf67"
      },
      "source": [
        "#Now we can compute beta_0 and beta_1\n",
        "beta_1 = sigma_xy/sigma_xx\n",
        "beta_0 = y_bar - beta_1* x_bar \n",
        "\n",
        "print('beta_0:', beta_0, 'beta_1', beta_1)\n"
      ],
      "execution_count": 10,
      "outputs": [
        {
          "output_type": "stream",
          "name": "stdout",
          "text": [
            "beta_0: 3.0024545454545466 beta_1 0.49972727272727274\n"
          ]
        }
      ]
    },
    {
      "cell_type": "markdown",
      "metadata": {
        "id": "g1192ijjJbhW"
      },
      "source": [
        "$\\Large{\\text{Plotting the regression line}}$\n",
        " \n",
        "Having computed $\\beta_0$ and $\\beta_1$, we will now plot the line $y=\\beta_1 x + \\beta_0$ along with the points in the data set. "
      ]
    },
    {
      "cell_type": "code",
      "metadata": {
        "colab": {
          "base_uri": "https://localhost:8080/"
        },
        "id": "8jWKeE7OKR7Y",
        "outputId": "3ba52c48-316f-4ec3-caa9-d9a2d1b74fe5"
      },
      "source": [
        "#compute the left and right limits of the x-axis\n",
        "x_min = 9999\n",
        "x_max = -9999\n",
        "\n",
        "for i in range(n): #access each row from the data set \n",
        "  x_i = float(anscombe_data_2.iat[i,0]) #access element at X column\n",
        "  if x_i > x_max:\n",
        "    x_max = x_i \n",
        "  if x_i < x_min:\n",
        "    x_min = x_i\n",
        "\n",
        "x_min = x_min - 1\n",
        "x_max = x_max + 1 \n",
        "\n",
        "print('x_min:',x_min,'x_max:',x_max)\n",
        "\n",
        "\n"
      ],
      "execution_count": 11,
      "outputs": [
        {
          "output_type": "stream",
          "name": "stdout",
          "text": [
            "x_min: 3.0 x_max: 15.0\n"
          ]
        }
      ]
    },
    {
      "cell_type": "code",
      "metadata": {
        "colab": {
          "base_uri": "https://localhost:8080/",
          "height": 295
        },
        "id": "Fku6RIQILQzd",
        "outputId": "ff9d981e-c91c-4f74-99a7-d4e6cbc5b6ec"
      },
      "source": [
        "import numpy as np\n",
        "x = np.linspace(x_min,x_max,100) #creates a series of points in x axis\n",
        "y = beta_1*x+beta_0\n",
        "plt.plot(x, y, '-r', label='regression line')\n",
        "plt.scatter(anscombe_data_2['X'], anscombe_data_2['Y'])\n",
        "\n",
        "plt.title(\"Anscombe Data set 2 X vs Y Regression\")\n",
        "plt.xlabel(\"X\")\n",
        "plt.ylabel(\"Y\")\n",
        "plt.legend(loc='upper left')\n",
        "#plt.grid()\n",
        "plt.show()"
      ],
      "execution_count": 12,
      "outputs": [
        {
          "output_type": "display_data",
          "data": {
            "image/png": "[encoded data removed]",
            "text/plain": [
              "<Figure size 432x288 with 1 Axes>"
            ]
          },
          "metadata": {
            "needs_background": "light"
          }
        }
      ]
    },
    {
      "cell_type": "markdown",
      "metadata": {
        "id": "FoBI7g6Gc5H_"
      },
      "source": [
        "$\\Large{\\text{Residual Plot}}$\n",
        "\n",
        "Sometimes it would be useful to plot the error (or) $\\textbf{residual}$ $e^i$ versus the fitted values $\\hat{y}^i=\\beta_1 x^i + \\beta_0$.  "
      ]
    },
    {
      "cell_type": "code",
      "metadata": {
        "colab": {
          "base_uri": "https://localhost:8080/",
          "height": 295
        },
        "id": "ymSVWrHgql4y",
        "outputId": "f266ac64-58d9-4632-bde0-96f9f46b6a20"
      },
      "source": [
        "e_i_residuals_list = [] \n",
        "for i in range(n): #access each row from the data set \n",
        "  x_i = float(anscombe_data_2.iat[i,0]) #access element at X column\n",
        "  y_i = float(anscombe_data_2.iat[i,1]) #access element at Y column\n",
        "\n",
        "  y_pred_i = beta_1 * x_i + beta_0 #compute the prediction obtained using the regression coefficients \n",
        "  e_i = y_i - y_pred_i #compute the difference between the actual observation y_i and prediction y_pred_i\n",
        "\n",
        "  e_i_residuals_list.append(e_i) #append the value of e_i to the list \n",
        "\n",
        "#plot the residuals e_i against the actual observations y_i\n",
        "plt.scatter(anscombe_data_2['Y'], e_i_residuals_list,color='r')\n",
        "plt.title(\"Residual plot\")\n",
        "plt.xlabel(\"Y responses\")\n",
        "plt.ylabel(\"Residuals\")\n",
        "plt.grid()\n",
        "plt.show()"
      ],
      "execution_count": 13,
      "outputs": [
        {
          "output_type": "display_data",
          "data": {
            "image/png": "[encoded data removed]",
            "text/plain": [
              "<Figure size 432x288 with 1 Axes>"
            ]
          },
          "metadata": {
            "needs_background": "light"
          }
        }
      ]
    },
    {
      "cell_type": "markdown",
      "metadata": {
        "id": "QE8zP-1bsOjO"
      },
      "source": [
        "Note that the residual plot helps to check the variance in the errors $e^i$. "
      ]
    },
    {
      "cell_type": "markdown",
      "metadata": {
        "id": "k9ZtwNTq29kx"
      },
      "source": [
        "Let us now compute the sample correlation."
      ]
    },
    {
      "cell_type": "code",
      "metadata": {
        "colab": {
          "base_uri": "https://localhost:8080/"
        },
        "id": "mvN3xkfg3AZs",
        "outputId": "ca9683cf-08bd-4929-c895-3a46f4aea0d4"
      },
      "source": [
        "#Note that sigma_XY and sigma_XX have already been computed. \n",
        "#Hence we will now compute sigma_YY\n",
        "\n",
        "#Also note that y_bar is computed before\n",
        "\n",
        "sigma_yy = 0\n",
        "for i in range(n): #access each row from the data set \n",
        "  y_i = float(anscombe_data_2.iat[i,1]) #access element at Y column\n",
        "  sigma_yy += (y_i-y_bar)**2\n",
        "\n",
        "print('sigma_yy:', sigma_yy)\n",
        "\n",
        "#Then we will compute the sample correlation\n",
        "sample_correlation = sigma_xy/(np.sqrt(sigma_xx * sigma_yy))\n",
        "print('sample correlation:',sample_correlation)"
      ],
      "execution_count": 14,
      "outputs": [
        {
          "output_type": "stream",
          "name": "stdout",
          "text": [
            "sigma_yy: 41.226200000000006\n",
            "sample correlation: 0.8162867394895981\n"
          ]
        }
      ]
    },
    {
      "cell_type": "markdown",
      "metadata": {
        "id": "u9YHIsongthK"
      },
      "source": [
        "Let us compute $R^2$. "
      ]
    },
    {
      "cell_type": "code",
      "metadata": {
        "colab": {
          "base_uri": "https://localhost:8080/"
        },
        "id": "NpaMDr5syhMe",
        "outputId": "cce9cde6-7210-4c55-abc7-3c36cb1c017d"
      },
      "source": [
        "#Note that sum of squared residuals needs to be computed \n",
        "\n",
        "sum_sq_residuals = 0\n",
        "for i in range(n): #access each row from the data set \n",
        "  x_i = float(anscombe_data_2.iat[i,0]) #access element at X column\n",
        "  y_i = float(anscombe_data_2.iat[i,1]) #access element at Y column\n",
        "  y_pred_i = beta_1*x_i + beta_0\n",
        "  sum_sq_residuals += (y_i-y_pred_i)**2\n",
        "\n",
        "print('sum of squared residuals:', sum_sq_residuals)\n",
        "\n",
        "#Then we will compute the R^2 quantity\n",
        "R_sq = 1-sum_sq_residuals/sigma_yy\n",
        "print('R^2:',R_sq)"
      ],
      "execution_count": 15,
      "outputs": [
        {
          "output_type": "stream",
          "name": "stdout",
          "text": [
            "sum of squared residuals: 13.756191818181826\n",
            "R^2: 0.666324041066559\n"
          ]
        }
      ]
    },
    {
      "cell_type": "markdown",
      "metadata": {
        "id": "g6PRtAMDwEgG"
      },
      "source": [
        "$\\Large{\\text{Exercises:}}$\n",
        "\n",
        "\n",
        "1.   Try to use data sets from $\\text{anscombe}\\_\\text{data}\\_\\text{3.txt}$ and $\\text{anscombe}\\_\\text{data}\\_\\text{4.txt}$ and find the linear regression model for these data sets. Summarize your findings.  \n",
        "\n",
        "2.   Consider the data from http://users.stat.ufl.edu/~winner/data/brainhead.dat and the corresponding data description from http://users.stat.ufl.edu/~winner/data/brainhead.txt. Choose the predictor variable to be $\\textit{head size}$ and the $\\textit{brain weight}$ to be response variable. Use linear regression to model the relationship between head size and brain weight. Explain your findings. \n",
        "\n"
      ]
    },
    {
      "cell_type": "code",
      "metadata": {
        "id": "T47ZSd4DiFa_"
      },
      "source": [
        ""
      ],
      "execution_count": null,
      "outputs": []
    }
  ]
}
