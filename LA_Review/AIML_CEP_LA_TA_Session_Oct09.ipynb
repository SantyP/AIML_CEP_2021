{
  "nbformat": 4,
  "nbformat_minor": 0,
  "metadata": {
    "colab": {
      "name": "AIML-CEP-LA-TA-Session_Oct09.ipynb",
      "provenance": [],
      "collapsed_sections": [],
      "include_colab_link": true
    },
    "kernelspec": {
      "name": "python3",
      "display_name": "Python 3"
    },
    "language_info": {
      "name": "python"
    }
  },
  "cells": [
    {
      "cell_type": "markdown",
      "metadata": {
        "id": "view-in-github",
        "colab_type": "text"
      },
      "source": [
        "<a href=\"https://colab.research.google.com/github/balamurugan-palaniappan-CEP/AIML_CEP_2021/blob/main/AIML_CEP_LA_TA_Session_Oct09.ipynb\" target=\"_parent\"><img src=\"https://colab.research.google.com/assets/colab-badge.svg\" alt=\"Open In Colab\"/></a>"
      ]
    },
    {
      "cell_type": "markdown",
      "metadata": {
        "id": "7ZQevUAMctAb"
      },
      "source": [
        "# Data set Exploration"
      ]
    },
    {
      "cell_type": "code",
      "metadata": {
        "id": "cSBaDM5Tlguf"
      },
      "source": [
        "import numpy as np #numpy package will be useful for most of the array operations in the code \n",
        "from sklearn.datasets import load_breast_cancer"
      ],
      "execution_count": null,
      "outputs": []
    },
    {
      "cell_type": "code",
      "metadata": {
        "id": "wSuIYhLGl4YW"
      },
      "source": [
        "#Let us load the breast cancer data and store the result in X_y variable. The idea behind naming of the variable will be illustrated in the next few tabs.\n",
        "X_y = load_breast_cancer()"
      ],
      "execution_count": null,
      "outputs": []
    },
    {
      "cell_type": "code",
      "metadata": {
        "colab": {
          "base_uri": "https://localhost:8080/"
        },
        "id": "0KmI-q5SmghO",
        "outputId": "0357f519-3c1b-4652-a8bf-de4746b05a02"
      },
      "source": [
        "#Let us print the contents of the X_y variable \n",
        "\n",
        "print(type(X_y))\n",
        "print(X_y)"
      ],
      "execution_count": null,
      "outputs": [
        {
          "output_type": "stream",
          "name": "stdout",
          "text": [
            "<class 'sklearn.utils.Bunch'>\n",
            "{'data': array([[1.799e+01, 1.038e+01, 1.228e+02, ..., 2.654e-01, 4.601e-01,\n",
            "        1.189e-01],\n",
            "       [2.057e+01, 1.777e+01, 1.329e+02, ..., 1.860e-01, 2.750e-01,\n",
            "        8.902e-02],\n",
            "       [1.969e+01, 2.125e+01, 1.300e+02, ..., 2.430e-01, 3.613e-01,\n",
            "        8.758e-02],\n",
            "       ...,\n",
            "       [1.660e+01, 2.808e+01, 1.083e+02, ..., 1.418e-01, 2.218e-01,\n",
            "        7.820e-02],\n",
            "       [2.060e+01, 2.933e+01, 1.401e+02, ..., 2.650e-01, 4.087e-01,\n",
            "        1.240e-01],\n",
            "       [7.760e+00, 2.454e+01, 4.792e+01, ..., 0.000e+00, 2.871e-01,\n",
            "        7.039e-02]]), 'target': array([0, 0, 0, 0, 0, 0, 0, 0, 0, 0, 0, 0, 0, 0, 0, 0, 0, 0, 0, 1, 1, 1,\n",
            "       0, 0, 0, 0, 0, 0, 0, 0, 0, 0, 0, 0, 0, 0, 0, 1, 0, 0, 0, 0, 0, 0,\n",
            "       0, 0, 1, 0, 1, 1, 1, 1, 1, 0, 0, 1, 0, 0, 1, 1, 1, 1, 0, 1, 0, 0,\n",
            "       1, 1, 1, 1, 0, 1, 0, 0, 1, 0, 1, 0, 0, 1, 1, 1, 0, 0, 1, 0, 0, 0,\n",
            "       1, 1, 1, 0, 1, 1, 0, 0, 1, 1, 1, 0, 0, 1, 1, 1, 1, 0, 1, 1, 0, 1,\n",
            "       1, 1, 1, 1, 1, 1, 1, 0, 0, 0, 1, 0, 0, 1, 1, 1, 0, 0, 1, 0, 1, 0,\n",
            "       0, 1, 0, 0, 1, 1, 0, 1, 1, 0, 1, 1, 1, 1, 0, 1, 1, 1, 1, 1, 1, 1,\n",
            "       1, 1, 0, 1, 1, 1, 1, 0, 0, 1, 0, 1, 1, 0, 0, 1, 1, 0, 0, 1, 1, 1,\n",
            "       1, 0, 1, 1, 0, 0, 0, 1, 0, 1, 0, 1, 1, 1, 0, 1, 1, 0, 0, 1, 0, 0,\n",
            "       0, 0, 1, 0, 0, 0, 1, 0, 1, 0, 1, 1, 0, 1, 0, 0, 0, 0, 1, 1, 0, 0,\n",
            "       1, 1, 1, 0, 1, 1, 1, 1, 1, 0, 0, 1, 1, 0, 1, 1, 0, 0, 1, 0, 1, 1,\n",
            "       1, 1, 0, 1, 1, 1, 1, 1, 0, 1, 0, 0, 0, 0, 0, 0, 0, 0, 0, 0, 0, 0,\n",
            "       0, 0, 1, 1, 1, 1, 1, 1, 0, 1, 0, 1, 1, 0, 1, 1, 0, 1, 0, 0, 1, 1,\n",
            "       1, 1, 1, 1, 1, 1, 1, 1, 1, 1, 1, 0, 1, 1, 0, 1, 0, 1, 1, 1, 1, 1,\n",
            "       1, 1, 1, 1, 1, 1, 1, 1, 1, 0, 1, 1, 1, 0, 1, 0, 1, 1, 1, 1, 0, 0,\n",
            "       0, 1, 1, 1, 1, 0, 1, 0, 1, 0, 1, 1, 1, 0, 1, 1, 1, 1, 1, 1, 1, 0,\n",
            "       0, 0, 1, 1, 1, 1, 1, 1, 1, 1, 1, 1, 1, 0, 0, 1, 0, 0, 0, 1, 0, 0,\n",
            "       1, 1, 1, 1, 1, 0, 1, 1, 1, 1, 1, 0, 1, 1, 1, 0, 1, 1, 0, 0, 1, 1,\n",
            "       1, 1, 1, 1, 0, 1, 1, 1, 1, 1, 1, 1, 0, 1, 1, 1, 1, 1, 0, 1, 1, 0,\n",
            "       1, 1, 1, 1, 1, 1, 1, 1, 1, 1, 1, 1, 0, 1, 0, 0, 1, 0, 1, 1, 1, 1,\n",
            "       1, 0, 1, 1, 0, 1, 0, 1, 1, 0, 1, 0, 1, 1, 1, 1, 1, 1, 1, 1, 0, 0,\n",
            "       1, 1, 1, 1, 1, 1, 0, 1, 1, 1, 1, 1, 1, 1, 1, 1, 1, 0, 1, 1, 1, 1,\n",
            "       1, 1, 1, 0, 1, 0, 1, 1, 0, 1, 1, 1, 1, 1, 0, 0, 1, 0, 1, 0, 1, 1,\n",
            "       1, 1, 1, 0, 1, 1, 0, 1, 0, 1, 0, 0, 1, 1, 1, 0, 1, 1, 1, 1, 1, 1,\n",
            "       1, 1, 1, 1, 1, 0, 1, 0, 0, 1, 1, 1, 1, 1, 1, 1, 1, 1, 1, 1, 1, 1,\n",
            "       1, 1, 1, 1, 1, 1, 1, 1, 1, 1, 1, 1, 0, 0, 0, 0, 0, 0, 1]), 'target_names': array(['malignant', 'benign'], dtype='<U9'), 'DESCR': '.. _breast_cancer_dataset:\\n\\nBreast cancer wisconsin (diagnostic) dataset\\n--------------------------------------------\\n\\n**Data Set Characteristics:**\\n\\n    :Number of Instances: 569\\n\\n    :Number of Attributes: 30 numeric, predictive attributes and the class\\n\\n    :Attribute Information:\\n        - radius (mean of distances from center to points on the perimeter)\\n        - texture (standard deviation of gray-scale values)\\n        - perimeter\\n        - area\\n        - smoothness (local variation in radius lengths)\\n        - compactness (perimeter^2 / area - 1.0)\\n        - concavity (severity of concave portions of the contour)\\n        - concave points (number of concave portions of the contour)\\n        - symmetry \\n        - fractal dimension (\"coastline approximation\" - 1)\\n\\n        The mean, standard error, and \"worst\" or largest (mean of the three\\n        largest values) of these features were computed for each image,\\n        resulting in 30 features.  For instance, field 3 is Mean Radius, field\\n        13 is Radius SE, field 23 is Worst Radius.\\n\\n        - class:\\n                - WDBC-Malignant\\n                - WDBC-Benign\\n\\n    :Summary Statistics:\\n\\n    ===================================== ====== ======\\n                                           Min    Max\\n    ===================================== ====== ======\\n    radius (mean):                        6.981  28.11\\n    texture (mean):                       9.71   39.28\\n    perimeter (mean):                     43.79  188.5\\n    area (mean):                          143.5  2501.0\\n    smoothness (mean):                    0.053  0.163\\n    compactness (mean):                   0.019  0.345\\n    concavity (mean):                     0.0    0.427\\n    concave points (mean):                0.0    0.201\\n    symmetry (mean):                      0.106  0.304\\n    fractal dimension (mean):             0.05   0.097\\n    radius (standard error):              0.112  2.873\\n    texture (standard error):             0.36   4.885\\n    perimeter (standard error):           0.757  21.98\\n    area (standard error):                6.802  542.2\\n    smoothness (standard error):          0.002  0.031\\n    compactness (standard error):         0.002  0.135\\n    concavity (standard error):           0.0    0.396\\n    concave points (standard error):      0.0    0.053\\n    symmetry (standard error):            0.008  0.079\\n    fractal dimension (standard error):   0.001  0.03\\n    radius (worst):                       7.93   36.04\\n    texture (worst):                      12.02  49.54\\n    perimeter (worst):                    50.41  251.2\\n    area (worst):                         185.2  4254.0\\n    smoothness (worst):                   0.071  0.223\\n    compactness (worst):                  0.027  1.058\\n    concavity (worst):                    0.0    1.252\\n    concave points (worst):               0.0    0.291\\n    symmetry (worst):                     0.156  0.664\\n    fractal dimension (worst):            0.055  0.208\\n    ===================================== ====== ======\\n\\n    :Missing Attribute Values: None\\n\\n    :Class Distribution: 212 - Malignant, 357 - Benign\\n\\n    :Creator:  Dr. William H. Wolberg, W. Nick Street, Olvi L. Mangasarian\\n\\n    :Donor: Nick Street\\n\\n    :Date: November, 1995\\n\\nThis is a copy of UCI ML Breast Cancer Wisconsin (Diagnostic) datasets.\\nhttps://goo.gl/U2Uwz2\\n\\nFeatures are computed from a digitized image of a fine needle\\naspirate (FNA) of a breast mass.  They describe\\ncharacteristics of the cell nuclei present in the image.\\n\\nSeparating plane described above was obtained using\\nMultisurface Method-Tree (MSM-T) [K. P. Bennett, \"Decision Tree\\nConstruction Via Linear Programming.\" Proceedings of the 4th\\nMidwest Artificial Intelligence and Cognitive Science Society,\\npp. 97-101, 1992], a classification method which uses linear\\nprogramming to construct a decision tree.  Relevant features\\nwere selected using an exhaustive search in the space of 1-4\\nfeatures and 1-3 separating planes.\\n\\nThe actual linear program used to obtain the separating plane\\nin the 3-dimensional space is that described in:\\n[K. P. Bennett and O. L. Mangasarian: \"Robust Linear\\nProgramming Discrimination of Two Linearly Inseparable Sets\",\\nOptimization Methods and Software 1, 1992, 23-34].\\n\\nThis database is also available through the UW CS ftp server:\\n\\nftp ftp.cs.wisc.edu\\ncd math-prog/cpo-dataset/machine-learn/WDBC/\\n\\n.. topic:: References\\n\\n   - W.N. Street, W.H. Wolberg and O.L. Mangasarian. Nuclear feature extraction \\n     for breast tumor diagnosis. IS&T/SPIE 1993 International Symposium on \\n     Electronic Imaging: Science and Technology, volume 1905, pages 861-870,\\n     San Jose, CA, 1993.\\n   - O.L. Mangasarian, W.N. Street and W.H. Wolberg. Breast cancer diagnosis and \\n     prognosis via linear programming. Operations Research, 43(4), pages 570-577, \\n     July-August 1995.\\n   - W.H. Wolberg, W.N. Street, and O.L. Mangasarian. Machine learning techniques\\n     to diagnose breast cancer from fine-needle aspirates. Cancer Letters 77 (1994) \\n     163-171.', 'feature_names': array(['mean radius', 'mean texture', 'mean perimeter', 'mean area',\n",
            "       'mean smoothness', 'mean compactness', 'mean concavity',\n",
            "       'mean concave points', 'mean symmetry', 'mean fractal dimension',\n",
            "       'radius error', 'texture error', 'perimeter error', 'area error',\n",
            "       'smoothness error', 'compactness error', 'concavity error',\n",
            "       'concave points error', 'symmetry error',\n",
            "       'fractal dimension error', 'worst radius', 'worst texture',\n",
            "       'worst perimeter', 'worst area', 'worst smoothness',\n",
            "       'worst compactness', 'worst concavity', 'worst concave points',\n",
            "       'worst symmetry', 'worst fractal dimension'], dtype='<U23'), 'filename': '/usr/local/lib/python3.7/dist-packages/sklearn/datasets/data/breast_cancer.csv'}\n"
          ]
        }
      ]
    },
    {
      "cell_type": "code",
      "metadata": {
        "colab": {
          "base_uri": "https://localhost:8080/"
        },
        "id": "P5kNerwJmqGz",
        "outputId": "cd6c7838-3701-4524-dafa-2a8ef1b09cbc"
      },
      "source": [
        "#So we found that the X_y variable is of type sklearn.utils.bunch\n",
        "#further, we see that the X_y variable consists of dictionary-type structures named \"data\",  \"target\" and \"target_names\"\n",
        "\n",
        "# Let us now segregate the data attributes and class labels into separate variables \n",
        "\n",
        "X = X_y.data\n",
        "y = X_y.target\n",
        "\n",
        "print('X shape:', X.shape, 'type(X):', type(X) )\n",
        "print(' y shape:', y.shape, ' type(y):', type(y))"
      ],
      "execution_count": null,
      "outputs": [
        {
          "output_type": "stream",
          "name": "stdout",
          "text": [
            "X shape: (569, 30) type(X): <class 'numpy.ndarray'>\n",
            " y shape: (569,)  type(y): <class 'numpy.ndarray'>\n"
          ]
        }
      ]
    },
    {
      "cell_type": "code",
      "metadata": {
        "colab": {
          "base_uri": "https://localhost:8080/"
        },
        "id": "0KrPNBNcwi3x",
        "outputId": "b4bf0d1e-838c-4dce-97a6-da845e7d5a40"
      },
      "source": [
        "#Thus we see that X and y are numpy ndarrays. \n",
        "#We also see that there are 569 samples (or instances) in the data set and each sample has 30 attributes. \n",
        "#The shape of target variable y indicates that y contains the labels for these 569 samples\n",
        "\n",
        "#We can print the unique labels available in y \n",
        "print(np.unique(y))"
      ],
      "execution_count": null,
      "outputs": [
        {
          "output_type": "stream",
          "name": "stdout",
          "text": [
            "[0 1]\n"
          ]
        }
      ]
    },
    {
      "cell_type": "code",
      "metadata": {
        "colab": {
          "base_uri": "https://localhost:8080/"
        },
        "id": "E8ocaBN1w7tH",
        "outputId": "81c44bbb-1224-4a2d-f437-888d9539126f"
      },
      "source": [
        "# Let us also segregate the data set description into a different variable and check the contents\n",
        "X_y_description = X_y.DESCR\n",
        "print('type(X_y_description):', type(X_y_description))\n",
        "print(X_y_description)"
      ],
      "execution_count": null,
      "outputs": [
        {
          "output_type": "stream",
          "name": "stdout",
          "text": [
            "type(X_y_description): <class 'str'>\n",
            ".. _breast_cancer_dataset:\n",
            "\n",
            "Breast cancer wisconsin (diagnostic) dataset\n",
            "--------------------------------------------\n",
            "\n",
            "**Data Set Characteristics:**\n",
            "\n",
            "    :Number of Instances: 569\n",
            "\n",
            "    :Number of Attributes: 30 numeric, predictive attributes and the class\n",
            "\n",
            "    :Attribute Information:\n",
            "        - radius (mean of distances from center to points on the perimeter)\n",
            "        - texture (standard deviation of gray-scale values)\n",
            "        - perimeter\n",
            "        - area\n",
            "        - smoothness (local variation in radius lengths)\n",
            "        - compactness (perimeter^2 / area - 1.0)\n",
            "        - concavity (severity of concave portions of the contour)\n",
            "        - concave points (number of concave portions of the contour)\n",
            "        - symmetry \n",
            "        - fractal dimension (\"coastline approximation\" - 1)\n",
            "\n",
            "        The mean, standard error, and \"worst\" or largest (mean of the three\n",
            "        largest values) of these features were computed for each image,\n",
            "        resulting in 30 features.  For instance, field 3 is Mean Radius, field\n",
            "        13 is Radius SE, field 23 is Worst Radius.\n",
            "\n",
            "        - class:\n",
            "                - WDBC-Malignant\n",
            "                - WDBC-Benign\n",
            "\n",
            "    :Summary Statistics:\n",
            "\n",
            "    ===================================== ====== ======\n",
            "                                           Min    Max\n",
            "    ===================================== ====== ======\n",
            "    radius (mean):                        6.981  28.11\n",
            "    texture (mean):                       9.71   39.28\n",
            "    perimeter (mean):                     43.79  188.5\n",
            "    area (mean):                          143.5  2501.0\n",
            "    smoothness (mean):                    0.053  0.163\n",
            "    compactness (mean):                   0.019  0.345\n",
            "    concavity (mean):                     0.0    0.427\n",
            "    concave points (mean):                0.0    0.201\n",
            "    symmetry (mean):                      0.106  0.304\n",
            "    fractal dimension (mean):             0.05   0.097\n",
            "    radius (standard error):              0.112  2.873\n",
            "    texture (standard error):             0.36   4.885\n",
            "    perimeter (standard error):           0.757  21.98\n",
            "    area (standard error):                6.802  542.2\n",
            "    smoothness (standard error):          0.002  0.031\n",
            "    compactness (standard error):         0.002  0.135\n",
            "    concavity (standard error):           0.0    0.396\n",
            "    concave points (standard error):      0.0    0.053\n",
            "    symmetry (standard error):            0.008  0.079\n",
            "    fractal dimension (standard error):   0.001  0.03\n",
            "    radius (worst):                       7.93   36.04\n",
            "    texture (worst):                      12.02  49.54\n",
            "    perimeter (worst):                    50.41  251.2\n",
            "    area (worst):                         185.2  4254.0\n",
            "    smoothness (worst):                   0.071  0.223\n",
            "    compactness (worst):                  0.027  1.058\n",
            "    concavity (worst):                    0.0    1.252\n",
            "    concave points (worst):               0.0    0.291\n",
            "    symmetry (worst):                     0.156  0.664\n",
            "    fractal dimension (worst):            0.055  0.208\n",
            "    ===================================== ====== ======\n",
            "\n",
            "    :Missing Attribute Values: None\n",
            "\n",
            "    :Class Distribution: 212 - Malignant, 357 - Benign\n",
            "\n",
            "    :Creator:  Dr. William H. Wolberg, W. Nick Street, Olvi L. Mangasarian\n",
            "\n",
            "    :Donor: Nick Street\n",
            "\n",
            "    :Date: November, 1995\n",
            "\n",
            "This is a copy of UCI ML Breast Cancer Wisconsin (Diagnostic) datasets.\n",
            "https://goo.gl/U2Uwz2\n",
            "\n",
            "Features are computed from a digitized image of a fine needle\n",
            "aspirate (FNA) of a breast mass.  They describe\n",
            "characteristics of the cell nuclei present in the image.\n",
            "\n",
            "Separating plane described above was obtained using\n",
            "Multisurface Method-Tree (MSM-T) [K. P. Bennett, \"Decision Tree\n",
            "Construction Via Linear Programming.\" Proceedings of the 4th\n",
            "Midwest Artificial Intelligence and Cognitive Science Society,\n",
            "pp. 97-101, 1992], a classification method which uses linear\n",
            "programming to construct a decision tree.  Relevant features\n",
            "were selected using an exhaustive search in the space of 1-4\n",
            "features and 1-3 separating planes.\n",
            "\n",
            "The actual linear program used to obtain the separating plane\n",
            "in the 3-dimensional space is that described in:\n",
            "[K. P. Bennett and O. L. Mangasarian: \"Robust Linear\n",
            "Programming Discrimination of Two Linearly Inseparable Sets\",\n",
            "Optimization Methods and Software 1, 1992, 23-34].\n",
            "\n",
            "This database is also available through the UW CS ftp server:\n",
            "\n",
            "ftp ftp.cs.wisc.edu\n",
            "cd math-prog/cpo-dataset/machine-learn/WDBC/\n",
            "\n",
            ".. topic:: References\n",
            "\n",
            "   - W.N. Street, W.H. Wolberg and O.L. Mangasarian. Nuclear feature extraction \n",
            "     for breast tumor diagnosis. IS&T/SPIE 1993 International Symposium on \n",
            "     Electronic Imaging: Science and Technology, volume 1905, pages 861-870,\n",
            "     San Jose, CA, 1993.\n",
            "   - O.L. Mangasarian, W.N. Street and W.H. Wolberg. Breast cancer diagnosis and \n",
            "     prognosis via linear programming. Operations Research, 43(4), pages 570-577, \n",
            "     July-August 1995.\n",
            "   - W.H. Wolberg, W.N. Street, and O.L. Mangasarian. Machine learning techniques\n",
            "     to diagnose breast cancer from fine-needle aspirates. Cancer Letters 77 (1994) \n",
            "     163-171.\n"
          ]
        }
      ]
    },
    {
      "cell_type": "code",
      "metadata": {
        "colab": {
          "base_uri": "https://localhost:8080/"
        },
        "id": "RcydgAreyJ4_",
        "outputId": "1ae82907-7d6d-4289-b236-30cb6bb5fd24"
      },
      "source": [
        "#Let us focus our discussion on the feature matrix X and keep aside the label matrix y for the time being.\n",
        "\n",
        "#Let us compute two new matrices from X. \n",
        "\n",
        "XXT = np.matmul(X,np.transpose(X)) #X X^T matrix \n",
        "XTX = np.matmul(X.T,X) #X^T X matrix \n",
        "\n",
        "print('XXT shape:', XXT.shape, 'XTX shape:', XTX.shape)\n"
      ],
      "execution_count": null,
      "outputs": [
        {
          "output_type": "stream",
          "name": "stdout",
          "text": [
            "XXT shape: (569, 569) XTX shape: (30, 30)\n"
          ]
        }
      ]
    },
    {
      "cell_type": "markdown",
      "metadata": {
        "id": "lBkZuRjcy40T"
      },
      "source": [
        "$XX^⊤$  and $X^⊤X$  are called covariance matrices.\n",
        "\n",
        "In particular, $XX^⊤$ is of shape num samples×num samples and captures the correlation (upto scaling) between distinct samples in the data set. Hence we call $XX^⊤$ to be sample covariance matrix.\n",
        "\n",
        "Similarly, $X^⊤X$  is of shape num features×num features and captures the correlation (upto scaling) between different attributes in the data set. Hence we call $X^⊤X$  to be feature covariance matrix.\n",
        "\n",
        "In fact, these covariance matrices satisfy several important properties:\n",
        "\n",
        "$XX^⊤$ and $X^⊤X$ are square and symmetric\n",
        "$XX^⊤$ and $X^⊤X$ are positive semi-definite (that is, their eigen values are non-negative)\n",
        "$XX^⊤$ and $X^⊤X$  have same positive eigen values.\n",
        "$XX^⊤$ and $X^⊤X$  have the same rank as $X$.\n",
        "\n",
        "Let us quickly check each of these facts."
      ]
    },
    {
      "cell_type": "code",
      "metadata": {
        "colab": {
          "base_uri": "https://localhost:8080/"
        },
        "id": "Uv0MgumTyXE9",
        "outputId": "e7ba4f37-1bc9-4e42-b8a1-32ca4caee4e8"
      },
      "source": [
        "#checking if XXT and XTX are square and symmetric\n",
        "\n",
        "print('XXT matrix:')\n",
        "if XXT.shape[0] == XXT.shape[1]:\n",
        "  print('XXT is square')\n",
        "else:\n",
        "  print('XXT is not square')\n",
        "\n",
        "if np.all(XXT == XXT.T):\n",
        "  print('XXT is symmetric')\n",
        "else:\n",
        "  print('XXT is not symmetric')\n",
        "\n",
        "\n",
        "print('XTX matrix:')\n",
        "if XTX.shape[0] == XTX.shape[1]:\n",
        "  print('XTX is square')\n",
        "else:\n",
        "  print('XTX is not square')\n",
        "\n",
        "if np.all(XTX == XTX.T):\n",
        "  print('XTX is symmetric')\n",
        "else:\n",
        "  print('XTX is not symmetric')\n",
        "\n"
      ],
      "execution_count": null,
      "outputs": [
        {
          "output_type": "stream",
          "name": "stdout",
          "text": [
            "XXT matrix:\n",
            "XXT is square\n",
            "XXT is symmetric\n",
            "XTX matrix:\n",
            "XTX is square\n",
            "XTX is symmetric\n"
          ]
        }
      ]
    },
    {
      "cell_type": "code",
      "metadata": {
        "colab": {
          "base_uri": "https://localhost:8080/"
        },
        "id": "fLAh2-yhzx8i",
        "outputId": "a9d55464-4db4-415f-c469-eb1adda4943e"
      },
      "source": [
        "#checking if XXT and XTX are positive semi-definite\n",
        "#First we will use linalg.eig in numpy, which can be used to find eigen values and eigen vectors for any square matrix\n",
        "\n",
        "print('eigen values of XXT:')\n",
        "eig_val_XXT, eig_vec_XXT = np.linalg.eig(XXT)\n",
        "print (eig_val_XXT)\n",
        "print('eigen values of XTX:')\n",
        "eig_val_XTX, eig_vec_XTX = np.linalg.eig(XTX)\n",
        "print(eig_val_XTX)\n"
      ],
      "execution_count": null,
      "outputs": [
        {
          "output_type": "stream",
          "name": "stdout",
          "text": [
            "eigen values of XXT:\n",
            "[ 9.47805173e+08+0.00000000e+00j  6.15261128e+06+0.00000000e+00j\n",
            "  7.75214997e+05+0.00000000e+00j  3.08161865e+05+0.00000000e+00j\n",
            "  2.34525303e+04+0.00000000e+00j  3.28217652e+03+0.00000000e+00j\n",
            "  1.04033653e+03+0.00000000e+00j  2.11680737e+02+0.00000000e+00j\n",
            "  9.66828410e+01+0.00000000e+00j  4.99857648e+01+0.00000000e+00j\n",
            "  1.95840388e+01+0.00000000e+00j  4.86495390e+00+0.00000000e+00j\n",
            "  1.98576241e+00+0.00000000e+00j  1.36712551e+00+0.00000000e+00j\n",
            "  7.53587604e-01+0.00000000e+00j  3.82712943e-01+0.00000000e+00j\n",
            "  2.25398781e-01+0.00000000e+00j  2.12921326e-01+0.00000000e+00j\n",
            "  1.07597950e-01+0.00000000e+00j  9.45577167e-02+0.00000000e+00j\n",
            "  4.44067163e-02+0.00000000e+00j  4.06949132e-02+0.00000000e+00j\n",
            "  1.98503972e-02+0.00000000e+00j  1.61613742e-02+0.00000000e+00j\n",
            "  9.72208362e-03+0.00000000e+00j  7.09962473e-03+0.00000000e+00j\n",
            "  3.18901806e-03+0.00000000e+00j  1.97695613e-03+0.00000000e+00j\n",
            "  1.13882417e-03+0.00000000e+00j  4.29587536e-04+0.00000000e+00j\n",
            "  4.70079523e-08+4.50892215e-08j  4.70079523e-08-4.50892215e-08j\n",
            " -5.89487839e-08+0.00000000e+00j -2.64392877e-08+0.00000000e+00j\n",
            " -2.34715701e-08+6.17593853e-09j -2.34715701e-08-6.17593853e-09j\n",
            "  2.67751942e-08+0.00000000e+00j -1.27561065e-08+1.63766438e-08j\n",
            " -1.27561065e-08-1.63766438e-08j -2.13746830e-08+4.66262904e-10j\n",
            " -2.13746830e-08-4.66262904e-10j -1.97650396e-08+0.00000000e+00j\n",
            " -1.85699751e-08+4.56656175e-09j -1.85699751e-08-4.56656175e-09j\n",
            " -1.75585317e-08+6.88265828e-09j -1.75585317e-08-6.88265828e-09j\n",
            "  2.26502301e-08+7.28167921e-09j  2.26502301e-08-7.28167921e-09j\n",
            " -1.66486825e-08+4.24156355e-09j -1.66486825e-08-4.24156355e-09j\n",
            " -2.44728719e-11+1.67428438e-08j -2.44728719e-11-1.67428438e-08j\n",
            "  2.11605736e-08+4.63658152e-09j  2.11605736e-08-4.63658152e-09j\n",
            "  2.11105816e-08+8.88213661e-10j  2.11105816e-08-8.88213661e-10j\n",
            "  1.62325228e-08+1.12262231e-08j  1.62325228e-08-1.12262231e-08j\n",
            " -8.99475245e-09+1.32588114e-08j -8.99475245e-09-1.32588114e-08j\n",
            " -1.42291756e-08+6.89459155e-09j -1.42291756e-08-6.89459155e-09j\n",
            "  1.50447929e-08+1.07389076e-08j  1.50447929e-08-1.07389076e-08j\n",
            " -1.20556825e-08+8.80522117e-09j -1.20556825e-08-8.80522117e-09j\n",
            " -9.74942861e-09+1.03790701e-08j -9.74942861e-09-1.03790701e-08j\n",
            " -2.96700585e-09+1.26453612e-08j -2.96700585e-09-1.26453612e-08j\n",
            "  1.77465406e-08+3.91210615e-09j  1.77465406e-08-3.91210615e-09j\n",
            "  8.39916967e-09+1.22347532e-08j  8.39916967e-09-1.22347532e-08j\n",
            "  1.56895421e-08+6.55481648e-09j  1.56895421e-08-6.55481648e-09j\n",
            "  1.19622351e-08+8.14961683e-09j  1.19622351e-08-8.14961683e-09j\n",
            "  1.35049097e-08+6.84652250e-09j  1.35049097e-08-6.84652250e-09j\n",
            "  1.61682692e-08+2.37118064e-10j  1.61682692e-08-2.37118064e-10j\n",
            "  1.39442657e-08+1.37390971e-09j  1.39442657e-08-1.37390971e-09j\n",
            "  1.37829087e-08+0.00000000e+00j  7.57077360e-09+1.06174697e-08j\n",
            "  7.57077360e-09-1.06174697e-08j -4.90956340e-09+1.15705170e-08j\n",
            " -4.90956340e-09-1.15705170e-08j  3.03229686e-09+1.19934206e-08j\n",
            "  3.03229686e-09-1.19934206e-08j -1.30505727e-08+5.24077754e-09j\n",
            " -1.30505727e-08-5.24077754e-09j -1.42969777e-08+2.89295398e-11j\n",
            " -1.42969777e-08-2.89295398e-11j  1.32839545e-08+2.35096990e-09j\n",
            "  1.32839545e-08-2.35096990e-09j  1.22113793e-08+4.83043896e-09j\n",
            "  1.22113793e-08-4.83043896e-09j -1.32420078e-08+4.16691575e-09j\n",
            " -1.32420078e-08-4.16691575e-09j  9.96263719e-09+7.99485061e-09j\n",
            "  9.96263719e-09-7.99485061e-09j  1.08646948e-08+6.67132037e-09j\n",
            "  1.08646948e-08-6.67132037e-09j -8.39540531e-09+9.11577053e-09j\n",
            " -8.39540531e-09-9.11577053e-09j -9.95226092e-09+7.57089527e-09j\n",
            " -9.95226092e-09-7.57089527e-09j  3.55021777e-09+1.06768501e-08j\n",
            "  3.55021777e-09-1.06768501e-08j  8.17185372e-10+1.09980218e-08j\n",
            "  8.17185372e-10-1.09980218e-08j -1.27947360e-08+1.86863250e-09j\n",
            " -1.27947360e-08-1.86863250e-09j  4.90064271e-09+9.73232574e-09j\n",
            "  4.90064271e-09-9.73232574e-09j -5.97458269e-09+9.21402341e-09j\n",
            " -5.97458269e-09-9.21402341e-09j -8.95170557e-09+7.02944137e-09j\n",
            " -8.95170557e-09-7.02944137e-09j  1.07256610e-08+3.78824984e-09j\n",
            "  1.07256610e-08-3.78824984e-09j -1.20035701e-08+0.00000000e+00j\n",
            " -1.13233885e-08+2.80711867e-09j -1.13233885e-08-2.80711867e-09j\n",
            " -1.13095920e-08+1.76796531e-09j -1.13095920e-08-1.76796531e-09j\n",
            "  6.85892848e-09+7.51968875e-09j  6.85892848e-09-7.51968875e-09j\n",
            "  8.63123162e-09+6.16092219e-09j  8.63123162e-09-6.16092219e-09j\n",
            "  1.08649161e-08+9.68440806e-10j  1.08649161e-08-9.68440806e-10j\n",
            " -1.00475635e-08+4.24845952e-09j -1.00475635e-08-4.24845952e-09j\n",
            " -9.85713201e-09+3.23685276e-09j -9.85713201e-09-3.23685276e-09j\n",
            "  9.45871216e-09+3.10417100e-09j  9.45871216e-09-3.10417100e-09j\n",
            " -2.25538069e-09+8.81398119e-09j -2.25538069e-09-8.81398119e-09j\n",
            " -8.72739045e-09+4.48470960e-09j -8.72739045e-09-4.48470960e-09j\n",
            " -7.20093740e-09+5.81332564e-09j -7.20093740e-09-5.81332564e-09j\n",
            " -9.63093864e-09+5.06044750e-10j -9.63093864e-09-5.06044750e-10j\n",
            "  4.75760345e-09+7.38534947e-09j  4.75760345e-09-7.38534947e-09j\n",
            " -3.23481124e-09+7.36447007e-09j -3.23481124e-09-7.36447007e-09j\n",
            "  7.98258917e-09+4.62618294e-09j  7.98258917e-09-4.62618294e-09j\n",
            " -6.25625152e-09+5.91194410e-09j -6.25625152e-09-5.91194410e-09j\n",
            "  9.50866659e-09+1.57817030e-09j  9.50866659e-09-1.57817030e-09j\n",
            "  1.50229924e-09+7.75050538e-09j  1.50229924e-09-7.75050538e-09j\n",
            "  6.98934151e-09+5.06623281e-09j  6.98934151e-09-5.06623281e-09j\n",
            "  8.67854736e-09+2.30115141e-09j  8.67854736e-09-2.30115141e-09j\n",
            "  9.11476822e-09+6.65162624e-10j  9.11476822e-09-6.65162624e-10j\n",
            " -8.86073346e-09+1.54673250e-09j -8.86073346e-09-1.54673250e-09j\n",
            "  2.53611055e-12+7.44230730e-09j  2.53611055e-12-7.44230730e-09j\n",
            " -8.56834224e-09+1.53156692e-09j -8.56834224e-09-1.53156692e-09j\n",
            "  3.68088452e-09+6.79123775e-09j  3.68088452e-09-6.79123775e-09j\n",
            " -8.59751822e-09+0.00000000e+00j -7.37966256e-09+3.74899906e-09j\n",
            " -7.37966256e-09-3.74899906e-09j  8.81444079e-09+0.00000000e+00j\n",
            " -6.35533633e-09+4.51837592e-09j -6.35533633e-09-4.51837592e-09j\n",
            " -4.94750004e-09+5.40741895e-09j -4.94750004e-09-5.40741895e-09j\n",
            "  2.32054570e-09+6.67058972e-09j  2.32054570e-09-6.67058972e-09j\n",
            " -3.46891358e-09+5.83574966e-09j -3.46891358e-09-5.83574966e-09j\n",
            "  5.30014137e-09+5.21319018e-09j  5.30014137e-09-5.21319018e-09j\n",
            " -7.29020677e-09+2.02535612e-09j -7.29020677e-09-2.02535612e-09j\n",
            "  6.00863885e-09+4.37995684e-09j  6.00863885e-09-4.37995684e-09j\n",
            "  8.21468423e-09+0.00000000e+00j -7.51908702e-09+0.00000000e+00j\n",
            "  6.40532549e-09+3.84288567e-09j  6.40532549e-09-3.84288567e-09j\n",
            " -6.59702653e-09+3.09805298e-09j -6.59702653e-09-3.09805298e-09j\n",
            "  7.52638605e-09+7.60173183e-10j  7.52638605e-09-7.60173183e-10j\n",
            "  1.89966831e-09+6.39612125e-09j  1.89966831e-09-6.39612125e-09j\n",
            "  7.22477367e-09+1.47092796e-09j  7.22477367e-09-1.47092796e-09j\n",
            "  6.99981175e-09+2.17643057e-09j  6.99981175e-09-2.17643057e-09j\n",
            " -5.72108878e-09+3.63594611e-09j -5.72108878e-09-3.63594611e-09j\n",
            " -2.56819515e-10+6.15498128e-09j -2.56819515e-10-6.15498128e-09j\n",
            " -1.83035469e-09+5.80498241e-09j -1.83035469e-09-5.80498241e-09j\n",
            " -4.65861978e-09+4.43252254e-09j -4.65861978e-09-4.43252254e-09j\n",
            "  4.75184534e-09+4.37455435e-09j  4.75184534e-09-4.37455435e-09j\n",
            "  6.07941594e-09+2.74400255e-09j  6.07941594e-09-2.74400255e-09j\n",
            "  1.21850461e-09+5.84299490e-09j  1.21850461e-09-5.84299490e-09j\n",
            "  6.72627064e-09+4.42177216e-10j  6.72627064e-09-4.42177216e-10j\n",
            " -3.69749014e-09+4.77716786e-09j -3.69749014e-09-4.77716786e-09j\n",
            "  5.00503545e-09+3.67900446e-09j  5.00503545e-09-3.67900446e-09j\n",
            " -6.13695091e-09+2.23108666e-09j -6.13695091e-09-2.23108666e-09j\n",
            "  4.33124167e-09+4.06213864e-09j  4.33124167e-09-4.06213864e-09j\n",
            " -6.69693316e-09+8.22963147e-10j -6.69693316e-09-8.22963147e-10j\n",
            " -6.32503296e-09+1.16677451e-09j -6.32503296e-09-1.16677451e-09j\n",
            "  1.10820170e-09+5.25036895e-09j  1.10820170e-09-5.25036895e-09j\n",
            "  5.90157633e-09+0.00000000e+00j -5.61746721e-09+2.03327771e-09j\n",
            " -5.61746721e-09-2.03327771e-09j  5.78259911e-09+1.94553244e-09j\n",
            "  5.78259911e-09-1.94553244e-09j -5.04794242e-09+2.66059101e-09j\n",
            " -5.04794242e-09-2.66059101e-09j  2.43438270e-09+4.82696192e-09j\n",
            "  2.43438270e-09-4.82696192e-09j -6.20638434e-09+5.83400074e-10j\n",
            " -6.20638434e-09-5.83400074e-10j -3.26602255e-09+4.12781358e-09j\n",
            " -3.26602255e-09-4.12781358e-09j  5.51147826e-09+1.96694462e-09j\n",
            "  5.51147826e-09-1.96694462e-09j  3.29129892e-09+4.32512626e-09j\n",
            "  3.29129892e-09-4.32512626e-09j  5.59275077e-09+7.35541721e-10j\n",
            "  5.59275077e-09-7.35541721e-10j  2.89054268e-09+4.15230045e-09j\n",
            "  2.89054268e-09-4.15230045e-09j  1.21786772e-09+4.60782824e-09j\n",
            "  1.21786772e-09-4.60782824e-09j -5.62616703e-09+4.81446721e-10j\n",
            " -5.62616703e-09-4.81446721e-10j -5.31535723e-09+5.59080010e-10j\n",
            " -5.31535723e-09-5.59080010e-10j -3.44154288e-10+4.86794506e-09j\n",
            " -3.44154288e-10-4.86794506e-09j  4.05341739e-09+3.18351810e-09j\n",
            "  4.05341739e-09-3.18351810e-09j -1.76762176e-09+4.55649429e-09j\n",
            " -1.76762176e-09-4.55649429e-09j -2.46987778e-09+4.16918866e-09j\n",
            " -2.46987778e-09-4.16918866e-09j  5.13380256e-09+9.67813461e-10j\n",
            "  5.13380256e-09-9.67813461e-10j  5.07994100e-09+0.00000000e+00j\n",
            " -3.83031065e-09+3.24668824e-09j -3.83031065e-09-3.24668824e-09j\n",
            "  3.47852389e-09+3.10559716e-09j  3.47852389e-09-3.10559716e-09j\n",
            " -4.61798205e-09+2.32661959e-09j -4.61798205e-09-2.32661959e-09j\n",
            "  3.95718365e-09+2.58531166e-09j  3.95718365e-09-2.58531166e-09j\n",
            "  4.71153038e-09+1.26423489e-09j  4.71153038e-09-1.26423489e-09j\n",
            " -4.04433487e-09+2.62623155e-09j -4.04433487e-09-2.62623155e-09j\n",
            " -4.53434864e-09+1.90872796e-09j -4.53434864e-09-1.90872796e-09j\n",
            " -4.73592348e-09+0.00000000e+00j  4.39912286e-09+1.67903608e-09j\n",
            "  4.39912286e-09-1.67903608e-09j -5.01689312e-10+4.35007628e-09j\n",
            " -5.01689312e-10-4.35007628e-09j -4.73337748e-09+1.17188092e-09j\n",
            " -4.73337748e-09-1.17188092e-09j -1.29941514e-09+4.16184019e-09j\n",
            " -1.29941514e-09-4.16184019e-09j -3.33151057e-09+3.08613865e-09j\n",
            " -3.33151057e-09-3.08613865e-09j  2.40954432e-09+3.47347467e-09j\n",
            "  2.40954432e-09-3.47347467e-09j -2.14206674e-09+3.58646072e-09j\n",
            " -2.14206674e-09-3.58646072e-09j  3.84238951e-10+3.96283653e-09j\n",
            "  3.84238951e-10-3.96283653e-09j -4.53957657e-09+6.29352732e-10j\n",
            " -4.53957657e-09-6.29352732e-10j -1.75919325e-09+3.66661088e-09j\n",
            " -1.75919325e-09-3.66661088e-09j -3.87467355e-12+3.96570622e-09j\n",
            " -3.87467355e-12-3.96570622e-09j  4.48312879e-09+5.07823249e-10j\n",
            "  4.48312879e-09-5.07823249e-10j  3.90031866e-09+1.51206362e-09j\n",
            "  3.90031866e-09-1.51206362e-09j  2.95289439e-09+2.84345480e-09j\n",
            "  2.95289439e-09-2.84345480e-09j  2.54481373e-09+3.13050279e-09j\n",
            "  2.54481373e-09-3.13050279e-09j  4.15829167e-09+6.17748847e-10j\n",
            "  4.15829167e-09-6.17748847e-10j -5.00614139e-10+3.75133811e-09j\n",
            " -5.00614139e-10-3.75133811e-09j -4.30342309e-09+0.00000000e+00j\n",
            " -3.36870108e-09+2.41382574e-09j -3.36870108e-09-2.41382574e-09j\n",
            "  7.59046581e-10+3.49075437e-09j  7.59046581e-10-3.49075437e-09j\n",
            " -4.01153391e-09+1.08451274e-09j -4.01153391e-09-1.08451274e-09j\n",
            " -3.72415462e-09+1.59942157e-09j -3.72415462e-09-1.59942157e-09j\n",
            "  1.56232445e-09+3.19678670e-09j  1.56232445e-09-3.19678670e-09j\n",
            "  2.93284050e-09+2.28839436e-09j  2.93284050e-09-2.28839436e-09j\n",
            " -2.56020467e-09+2.65197028e-09j -2.56020467e-09-2.65197028e-09j\n",
            " -2.30051372e-09+2.77545152e-09j -2.30051372e-09-2.77545152e-09j\n",
            "  3.10215016e-09+2.03596717e-09j  3.10215016e-09-2.03596717e-09j\n",
            " -1.90183920e-09+2.92918869e-09j -1.90183920e-09-2.92918869e-09j\n",
            " -3.52688743e-09+1.30709823e-09j -3.52688743e-09-1.30709823e-09j\n",
            " -2.64640770e-09+2.31793113e-09j -2.64640770e-09-2.31793113e-09j\n",
            "  2.05513215e-09+2.62006052e-09j  2.05513215e-09-2.62006052e-09j\n",
            " -3.43590494e-09+1.14135131e-09j -3.43590494e-09-1.14135131e-09j\n",
            " -3.60717200e-09+1.65131094e-10j -3.60717200e-09-1.65131094e-10j\n",
            "  3.82300395e-09+0.00000000e+00j -5.58897281e-10+3.17338270e-09j\n",
            " -5.58897281e-10-3.17338270e-09j -1.31484518e-09+2.86135964e-09j\n",
            " -1.31484518e-09-2.86135964e-09j  3.77065809e-09+3.48153688e-10j\n",
            "  3.77065809e-09-3.48153688e-10j -2.56735793e-09+2.00526141e-09j\n",
            " -2.56735793e-09-2.00526141e-09j  8.04882714e-10+3.05606695e-09j\n",
            "  8.04882714e-10-3.05606695e-09j -9.57176464e-10+2.90736763e-09j\n",
            " -9.57176464e-10-2.90736763e-09j  3.60786231e-09+5.58148975e-10j\n",
            "  3.60786231e-09-5.58148975e-10j -3.09744427e-09+9.64038837e-10j\n",
            " -3.09744427e-09-9.64038837e-10j  1.43819724e-09+2.70845378e-09j\n",
            "  1.43819724e-09-2.70845378e-09j  1.83472557e-09+2.49621787e-09j\n",
            "  1.83472557e-09-2.49621787e-09j -3.14349535e-09+3.17446186e-10j\n",
            " -3.14349535e-09-3.17446186e-10j  3.26341469e-09+1.09369820e-09j\n",
            "  3.26341469e-09-1.09369820e-09j  3.13242774e-09+1.21897281e-09j\n",
            "  3.13242774e-09-1.21897281e-09j -2.98421840e-09+1.01953188e-10j\n",
            " -2.98421840e-09-1.01953188e-10j -1.66628376e-09+2.29326697e-09j\n",
            " -1.66628376e-09-2.29326697e-09j  2.52624745e-09+1.77165407e-09j\n",
            "  2.52624745e-09-1.77165407e-09j -2.49146155e-09+1.37547507e-09j\n",
            " -2.49146155e-09-1.37547507e-09j  3.18734778e-09+1.02469508e-10j\n",
            "  3.18734778e-09-1.02469508e-10j  2.98218709e-09+7.33658400e-10j\n",
            "  2.98218709e-09-7.33658400e-10j -3.32587307e-10+2.60077030e-09j\n",
            " -3.32587307e-10-2.60077030e-09j  2.02735054e-10+2.68718360e-09j\n",
            "  2.02735054e-10-2.68718360e-09j -1.79388341e-09+1.96127879e-09j\n",
            " -1.79388341e-09-1.96127879e-09j  2.68885232e-09+1.25255813e-09j\n",
            "  2.68885232e-09-1.25255813e-09j  2.81110654e-09+0.00000000e+00j\n",
            "  6.23913550e-10+2.49961878e-09j  6.23913550e-10-2.49961878e-09j\n",
            "  1.55976764e-09+2.12663314e-09j  1.55976764e-09-2.12663314e-09j\n",
            "  1.20291552e-09+2.29197859e-09j  1.20291552e-09-2.29197859e-09j\n",
            "  2.41778587e-09+1.20899090e-09j  2.41778587e-09-1.20899090e-09j\n",
            " -2.79977060e-09+5.83699165e-10j -2.79977060e-09-5.83699165e-10j\n",
            " -1.03279327e-09+2.29418327e-09j -1.03279327e-09-2.29418327e-09j\n",
            "  1.73905304e-09+1.91648874e-09j  1.73905304e-09-1.91648874e-09j\n",
            " -1.86932370e-09+1.75742631e-09j -1.86932370e-09-1.75742631e-09j\n",
            "  1.97052723e-10+2.38603698e-09j  1.97052723e-10-2.38603698e-09j\n",
            "  1.90967560e-09+1.59920254e-09j  1.90967560e-09-1.59920254e-09j\n",
            "  2.40743524e-09+0.00000000e+00j -2.19427584e-09+1.34385832e-09j\n",
            " -2.19427584e-09-1.34385832e-09j  1.08366873e-09+1.99752632e-09j\n",
            "  1.08366873e-09-1.99752632e-09j  2.22204939e-09+7.60509193e-10j\n",
            "  2.22204939e-09-7.60509193e-10j  7.51568309e-11+2.21857837e-09j\n",
            "  7.51568309e-11-2.21857837e-09j  2.28285632e-09+2.46397315e-10j\n",
            "  2.28285632e-09-2.46397315e-10j -1.32015896e-09+1.78809351e-09j\n",
            " -1.32015896e-09-1.78809351e-09j -2.35016389e-09+0.00000000e+00j\n",
            " -1.90506244e-09+1.31318114e-09j -1.90506244e-09-1.31318114e-09j\n",
            " -2.17596081e-09+5.50569149e-10j -2.17596081e-09-5.50569149e-10j\n",
            " -2.06549032e-09+6.82026317e-10j -2.06549032e-09-6.82026317e-10j\n",
            " -1.89518661e-09+9.83436706e-10j -1.89518661e-09-9.83436706e-10j\n",
            " -2.16258869e-09+1.12349498e-10j -2.16258869e-09-1.12349498e-10j\n",
            " -8.33957427e-10+1.89665256e-09j -8.33957427e-10-1.89665256e-09j\n",
            "  1.22396266e-09+1.71570246e-09j  1.22396266e-09-1.71570246e-09j\n",
            "  6.11966101e-10+1.80526665e-09j  6.11966101e-10-1.80526665e-09j\n",
            "  1.90600967e-09+9.43793854e-10j  1.90600967e-09-9.43793854e-10j\n",
            "  1.77444682e-09+1.04665894e-09j  1.77444682e-09-1.04665894e-09j\n",
            "  2.01537494e-09+0.00000000e+00j  8.02356757e-10+1.71411772e-09j\n",
            "  8.02356757e-10-1.71411772e-09j -9.02456097e-10+1.63289703e-09j\n",
            " -9.02456097e-10-1.63289703e-09j  1.41511063e-09+1.28046529e-09j\n",
            "  1.41511063e-09-1.28046529e-09j  1.88786966e-09+3.14895908e-10j\n",
            "  1.88786966e-09-3.14895908e-10j  1.81535603e-09+4.71876611e-10j\n",
            "  1.81535603e-09-4.71876611e-10j -1.50164349e-10+1.67982971e-09j\n",
            " -1.50164349e-10-1.67982971e-09j -1.27109043e-09+1.26951607e-09j\n",
            " -1.27109043e-09-1.26951607e-09j -1.75180217e-09+0.00000000e+00j\n",
            " -2.74840427e-10+1.58975711e-09j -2.74840427e-10-1.58975711e-09j\n",
            "  2.28566061e-10+1.58650724e-09j  2.28566061e-10-1.58650724e-09j\n",
            "  1.58521739e-09+6.72299953e-10j  1.58521739e-09-6.72299953e-10j\n",
            "  1.34741838e-09+9.32044756e-10j  1.34741838e-09-9.32044756e-10j\n",
            "  6.41415839e-10+1.42950661e-09j  6.41415839e-10-1.42950661e-09j\n",
            " -1.26454350e-09+1.01158976e-09j -1.26454350e-09-1.01158976e-09j\n",
            " -1.58014422e-09+5.82897765e-10j -1.58014422e-09-5.82897765e-10j\n",
            " -7.84903423e-10+1.30872263e-09j -7.84903423e-10-1.30872263e-09j\n",
            "  7.41964931e-10+1.27533425e-09j  7.41964931e-10-1.27533425e-09j\n",
            "  1.46740245e-09+2.59133776e-10j  1.46740245e-09-2.59133776e-10j\n",
            "  1.44941246e-09+0.00000000e+00j -1.54961455e-09+3.98545623e-10j\n",
            " -1.54961455e-09-3.98545623e-10j -9.38574765e-10+1.06090875e-09j\n",
            " -9.38574765e-10-1.06090875e-09j -4.16997645e-10+1.27282986e-09j\n",
            " -4.16997645e-10-1.27282986e-09j  8.43059474e-10+9.73399648e-10j\n",
            "  8.43059474e-10-9.73399648e-10j -1.46719151e-09+2.23674679e-10j\n",
            " -1.46719151e-09-2.23674679e-10j  4.29332117e-10+1.22329460e-09j\n",
            "  4.29332117e-10-1.22329460e-09j  9.71347564e-10+7.28364111e-10j\n",
            "  9.71347564e-10-7.28364111e-10j -9.55603032e-10+7.89397289e-10j\n",
            " -9.55603032e-10-7.89397289e-10j  1.22438449e-09+3.95499009e-10j\n",
            "  1.22438449e-09-3.95499009e-10j -8.25558952e-12+1.14178175e-09j\n",
            " -8.25558952e-12-1.14178175e-09j  1.05345238e-09+4.62273132e-10j\n",
            "  1.05345238e-09-4.62273132e-10j -7.32038421e-10+8.87581463e-10j\n",
            " -7.32038421e-10-8.87581463e-10j -1.25248581e-09+0.00000000e+00j\n",
            " -1.09446465e-09+5.04466860e-10j -1.09446465e-09-5.04466860e-10j\n",
            "  8.60390142e-10+5.42732624e-10j  8.60390142e-10-5.42732624e-10j\n",
            "  9.15978149e-10+0.00000000e+00j  7.82555641e-10+5.52736023e-10j\n",
            "  7.82555641e-10-5.52736023e-10j -1.02639998e-09+4.10232649e-10j\n",
            " -1.02639998e-09-4.10232649e-10j -2.12151228e-11+9.56994868e-10j\n",
            " -2.12151228e-11-9.56994868e-10j  2.25664644e-10+8.68498356e-10j\n",
            "  2.25664644e-10-8.68498356e-10j -1.04125060e-09+0.00000000e+00j\n",
            " -1.02410561e-09+1.88960474e-10j -1.02410561e-09-1.88960474e-10j\n",
            "  4.17240770e-10+7.29166002e-10j  4.17240770e-10-7.29166002e-10j\n",
            "  4.63799601e-10+5.90906952e-10j  4.63799601e-10-5.90906952e-10j\n",
            " -6.01246845e-10+6.05897693e-10j -6.01246845e-10-6.05897693e-10j\n",
            " -8.20991085e-11+7.54971814e-10j -8.20991085e-11-7.54971814e-10j\n",
            " -8.35943703e-11+7.09072995e-10j -8.35943703e-11-7.09072995e-10j\n",
            "  5.26047707e-10+2.35641352e-10j  5.26047707e-10-2.35641352e-10j\n",
            "  5.85394280e-10+5.20107030e-11j  5.85394280e-10-5.20107030e-11j\n",
            " -2.17959317e-10+6.02396844e-10j -2.17959317e-10-6.02396844e-10j\n",
            " -7.71921164e-10+3.35454901e-10j -7.71921164e-10-3.35454901e-10j\n",
            " -7.32401685e-10+0.00000000e+00j  5.52875605e-11+4.15373287e-10j\n",
            "  5.52875605e-11-4.15373287e-10j  2.45492063e-10+2.35148536e-10j\n",
            "  2.45492063e-10-2.35148536e-10j -2.29524597e-10+3.51629395e-10j\n",
            " -2.29524597e-10-3.51629395e-10j -2.80605163e-10+2.87518206e-10j\n",
            " -2.80605163e-10-2.87518206e-10j  9.33299145e-11+1.76339285e-10j\n",
            "  9.33299145e-11-1.76339285e-10j -4.50287132e-10+1.72228190e-10j\n",
            " -4.50287132e-10-1.72228190e-10j  1.63710712e-10+0.00000000e+00j\n",
            " -2.05010707e-10+0.00000000e+00j -4.35088990e-10+0.00000000e+00j\n",
            " -3.76386417e-11+0.00000000e+00j]\n",
            "eigen values of XTX:\n",
            "[9.47805173e+08 6.15261128e+06 7.75214997e+05 3.08161865e+05\n",
            " 2.34525303e+04 3.28217652e+03 1.04033653e+03 2.11680737e+02\n",
            " 9.66828410e+01 4.99857648e+01 1.95840388e+01 4.86495390e+00\n",
            " 1.98576241e+00 1.36712551e+00 7.53587605e-01 3.82712944e-01\n",
            " 2.25398780e-01 2.12921328e-01 1.07597951e-01 9.45577166e-02\n",
            " 4.44067172e-02 4.06949123e-02 1.98503980e-02 1.61613716e-02\n",
            " 9.72208699e-03 7.09962582e-03 3.18901541e-03 1.97695370e-03\n",
            " 4.29590106e-04 1.13882763e-03]\n"
          ]
        }
      ]
    },
    {
      "cell_type": "markdown",
      "metadata": {
        "id": "IFrHmMdFsMjr"
      },
      "source": [
        "## Important note about the results obtained from $\\texttt{np.linalg.eig}$## \n",
        "\n",
        "Note that the results from $\\texttt{np.linalg.eig}$ show complex eigen values for $XX^\\top$ matrix. \n",
        "\n",
        "However from theory if $A$ is a real symmetric matrix, then the eigen values need to be real. We present a proof of the result below. \n",
        "\n",
        "So, the results from $\\texttt{np.linalg.eig}$ are due to numerical errors due to floating point approximations and truncations involved in the algorithms used to compute the eigen values and eigen vectors. "
      ]
    },
    {
      "cell_type": "markdown",
      "metadata": {
        "id": "ewUyxDD3r-pa"
      },
      "source": [
        "$\\textbf{Result:}$ If $A$ is a real symmetric matrix, then the eigen values are real. \n",
        "\n",
        "A simple proof is as below: \n",
        "\n",
        "Let $\\lambda$ be a complex number of the form $a+bi$ which is an eigen value for a real symmetric matrix $A$ corresponding to the eigen vector $x\\neq \\mathbf{0}$. Recall that the complex conjugate $\\bar{\\lambda}$ of $\\lambda$ is given by $a-bi$. \n",
        "\n",
        "Then we have:\n",
        "\n",
        "$\n",
        "\\begin{align}\n",
        "Ax &= \\lambda x \\nonumber \\\\\n",
        "\\text{Taking complex conjugates } & \\text { on both sides, we have} \\nonumber \\\\\n",
        "\\overline{Ax} &= \\overline{\\lambda x} \\nonumber \\\\\n",
        "\\bar{A} \\bar{x} &= \\bar{\\lambda} \\bar{x} \\nonumber \\\\\n",
        "\\end{align}\n",
        "$\n",
        "\n",
        "However $\\bar{A} = A$ since $A$ is real. Thus we have $A\\bar{x} = \\bar{\\lambda} \\bar{x}$. Hence $\\bar{x} \\neq \\mathbf{0}$ is an eigen vector of $A$ with a corresponding eigen value $\\bar{\\lambda}$.   \n",
        "\n",
        "Now consider $A \\bar{x} = \\lambda \\bar{x}$. Pre-multiplying by $x^\\top$ we have:\n",
        "\n",
        "$\n",
        "\\begin{align}\n",
        "x^\\top A \\bar{x} &= \\lambda x^\\top \\bar{x} \\nonumber \\\\\n",
        "(Ax)^\\top \\bar{x} &= \\lambda x^\\top \\bar{x} \\nonumber \\\\\n",
        "\\implies (\\lambda x)^\\top \\bar{x} &= \\lambda x^\\top \\bar{x} \\nonumber \\\\\n",
        "\\lambda x^\\top \\bar{x} &= \\lambda x^\\top \\bar{x} \\nonumber \\\\\n",
        "\\end{align}\n",
        "$\n",
        "\n",
        "Since $r=x^\\top \\bar{x} \\neq 0$ is a real quantity $\\textbf{(check this!)}$ we have:   $\\lambda r=\\bar{\\lambda} r \\implies \\lambda =\\bar{\\lambda}$. \n",
        "\n",
        "Now $\\lambda = \\bar{\\lambda} \\implies a+bi = a-bi$ is possible if and only if $b=0$ or $\\lambda$ is a real number. Hence the proof follows. "
      ]
    },
    {
      "cell_type": "code",
      "metadata": {
        "colab": {
          "base_uri": "https://localhost:8080/"
        },
        "id": "rWgPsmuy0NQS",
        "outputId": "36421d98-54be-4c50-9b0d-ac2296975c0a"
      },
      "source": [
        "#checking if XXT and XTX are positive semi-definite\n",
        "#we will use linalg.eigh in numpy, which can be useful for symmetric matrices \n",
        "\n",
        "print('eigen values of XXT:')\n",
        "eig_val_XXT, eig_vec_XXT = np.linalg.eigh(XXT)\n",
        "print(eig_val_XXT)\n",
        "\n",
        "print('eigen values of XTX:')\n",
        "eig_val_XTX, eig_vec_XTX = np.linalg.eigh(XTX)\n",
        "print(eig_val_XTX)\n"
      ],
      "execution_count": null,
      "outputs": [
        {
          "output_type": "stream",
          "name": "stdout",
          "text": [
            "eigen values of XXT:\n",
            "[-2.80875776e-07 -1.94895194e-07 -1.80298192e-07 -6.85741301e-08\n",
            " -6.68056033e-08 -6.00138851e-08 -5.53517655e-08 -5.40929694e-08\n",
            " -4.76690410e-08 -4.41981869e-08 -4.09484601e-08 -4.05289263e-08\n",
            " -3.90250834e-08 -3.56952042e-08 -3.55557716e-08 -3.51706792e-08\n",
            " -3.44350158e-08 -3.27119243e-08 -3.17977693e-08 -3.15123846e-08\n",
            " -3.06489079e-08 -3.01044583e-08 -2.78574089e-08 -2.67563130e-08\n",
            " -2.56202802e-08 -2.52601310e-08 -2.44067154e-08 -2.37222631e-08\n",
            " -2.34154648e-08 -2.26253370e-08 -2.21707367e-08 -2.14707550e-08\n",
            " -2.13720815e-08 -2.11946880e-08 -2.01741227e-08 -1.92781360e-08\n",
            " -1.91901187e-08 -1.88353047e-08 -1.77197129e-08 -1.74463885e-08\n",
            " -1.70090907e-08 -1.69938689e-08 -1.67329896e-08 -1.64386241e-08\n",
            " -1.62944036e-08 -1.58755505e-08 -1.57992664e-08 -1.56054212e-08\n",
            " -1.51120484e-08 -1.46307620e-08 -1.42868709e-08 -1.36531287e-08\n",
            " -1.34089135e-08 -1.32642062e-08 -1.29388831e-08 -1.27691067e-08\n",
            " -1.23350700e-08 -1.22098467e-08 -1.21701441e-08 -1.20991457e-08\n",
            " -1.20352368e-08 -1.19881391e-08 -1.14686481e-08 -1.13921023e-08\n",
            " -1.09049606e-08 -1.08382059e-08 -1.04954627e-08 -1.03453562e-08\n",
            " -1.01020208e-08 -1.00831223e-08 -1.00415050e-08 -9.90834810e-09\n",
            " -9.68529925e-09 -9.60617843e-09 -9.25499412e-09 -9.22690215e-09\n",
            " -9.01713008e-09 -8.75315371e-09 -8.70796385e-09 -8.49828983e-09\n",
            " -8.39141524e-09 -8.35209811e-09 -8.28197068e-09 -8.20077398e-09\n",
            " -8.18532850e-09 -8.13056669e-09 -8.11680998e-09 -8.02709397e-09\n",
            " -7.82983784e-09 -7.67816464e-09 -7.60829999e-09 -7.40546492e-09\n",
            " -7.37994629e-09 -7.34534974e-09 -7.23191619e-09 -7.08372196e-09\n",
            " -6.89927989e-09 -6.87251778e-09 -6.78474903e-09 -6.72356342e-09\n",
            " -6.63123424e-09 -6.61275688e-09 -6.57964734e-09 -6.51378435e-09\n",
            " -6.50630281e-09 -6.30571055e-09 -6.27759691e-09 -6.18432148e-09\n",
            " -6.09178117e-09 -6.07823261e-09 -6.05639849e-09 -5.74401629e-09\n",
            " -5.57076489e-09 -5.55443715e-09 -5.54634764e-09 -5.53283503e-09\n",
            " -5.46694581e-09 -5.46280135e-09 -5.37051135e-09 -5.29309510e-09\n",
            " -5.26833006e-09 -5.25983340e-09 -5.09613091e-09 -5.02292415e-09\n",
            " -5.02106423e-09 -4.86168707e-09 -4.72674728e-09 -4.69115007e-09\n",
            " -4.68060201e-09 -4.59202717e-09 -4.56709054e-09 -4.55042061e-09\n",
            " -4.54774188e-09 -4.51852349e-09 -4.48471716e-09 -4.46936836e-09\n",
            " -4.32777516e-09 -4.31092972e-09 -4.27851294e-09 -4.25123100e-09\n",
            " -4.22990291e-09 -4.18516503e-09 -4.05010980e-09 -4.01912223e-09\n",
            " -4.01298731e-09 -4.00992912e-09 -3.93671628e-09 -3.89996477e-09\n",
            " -3.86576584e-09 -3.66699888e-09 -3.57252057e-09 -3.53526151e-09\n",
            " -3.46624093e-09 -3.44066504e-09 -3.43533043e-09 -3.42140720e-09\n",
            " -3.34318606e-09 -3.33996055e-09 -3.32538846e-09 -3.27475029e-09\n",
            " -3.24988012e-09 -3.23227155e-09 -3.20564972e-09 -3.14455390e-09\n",
            " -3.09063252e-09 -3.05045630e-09 -2.98224536e-09 -2.97621105e-09\n",
            " -2.96763655e-09 -2.93618277e-09 -2.87186084e-09 -2.87009253e-09\n",
            " -2.79984414e-09 -2.79286285e-09 -2.72706991e-09 -2.69834301e-09\n",
            " -2.67407109e-09 -2.57844547e-09 -2.57522093e-09 -2.56961640e-09\n",
            " -2.54039911e-09 -2.49268972e-09 -2.42989719e-09 -2.40194667e-09\n",
            " -2.38919985e-09 -2.36166878e-09 -2.30702877e-09 -2.27128901e-09\n",
            " -2.26768463e-09 -2.26263507e-09 -2.20882109e-09 -2.10114318e-09\n",
            " -2.08976787e-09 -2.08840848e-09 -2.04710395e-09 -2.01960219e-09\n",
            " -2.01857058e-09 -2.00299783e-09 -1.98265091e-09 -1.93321423e-09\n",
            " -1.90984229e-09 -1.88708768e-09 -1.85647551e-09 -1.73632507e-09\n",
            " -1.71504825e-09 -1.70411384e-09 -1.69523629e-09 -1.65496287e-09\n",
            " -1.62798571e-09 -1.60234657e-09 -1.59345479e-09 -1.57997895e-09\n",
            " -1.57546084e-09 -1.57069584e-09 -1.56673684e-09 -1.52928041e-09\n",
            " -1.49239484e-09 -1.48966926e-09 -1.43180808e-09 -1.40539177e-09\n",
            " -1.37868472e-09 -1.36136003e-09 -1.31463598e-09 -1.28154870e-09\n",
            " -1.23796499e-09 -1.19759029e-09 -1.18429745e-09 -1.18145900e-09\n",
            " -1.15524396e-09 -1.15200282e-09 -1.13621092e-09 -1.12529395e-09\n",
            " -1.06710092e-09 -1.06466978e-09 -1.05304240e-09 -1.05292455e-09\n",
            " -1.05144820e-09 -9.96239281e-10 -9.88735575e-10 -9.86248425e-10\n",
            " -9.55320892e-10 -9.23621740e-10 -9.07119013e-10 -8.53589960e-10\n",
            " -8.46210972e-10 -8.37190089e-10 -8.05840726e-10 -7.71119873e-10\n",
            " -7.64999607e-10 -7.60051406e-10 -7.52271980e-10 -6.99709004e-10\n",
            " -6.23191344e-10 -6.18708498e-10 -6.12742373e-10 -5.38999062e-10\n",
            " -5.30863612e-10 -5.13123060e-10 -4.80716728e-10 -4.80156677e-10\n",
            " -4.41216982e-10 -4.25051065e-10 -4.06892525e-10 -3.70656814e-10\n",
            " -3.12460573e-10 -3.05592444e-10 -2.79353636e-10 -2.47868789e-10\n",
            " -2.37822432e-10 -2.31738123e-10 -1.29085220e-10 -1.05545195e-10\n",
            " -1.02090446e-10 -9.69679230e-11 -7.02946402e-11 -6.47139673e-11\n",
            " -6.33556042e-11 -5.10728144e-11 -3.70335385e-11 -2.33048949e-11\n",
            " -2.29507996e-11 -2.13572563e-11 -1.45747644e-11 -8.46404561e-12\n",
            " -1.49893673e-12  1.51111036e-11  3.59411529e-11  4.60695331e-11\n",
            "  5.24439701e-11  7.65673633e-11  1.02777402e-10  1.16433370e-10\n",
            "  1.49968739e-10  1.81420587e-10  2.03653596e-10  2.08081873e-10\n",
            "  2.63286509e-10  2.88207165e-10  2.99506974e-10  3.50196094e-10\n",
            "  3.70339138e-10  3.89597351e-10  3.95319217e-10  4.00313619e-10\n",
            "  4.11271591e-10  4.26474801e-10  4.44519605e-10  5.07124541e-10\n",
            "  5.26084848e-10  5.44577085e-10  5.72649241e-10  5.97471851e-10\n",
            "  6.10772662e-10  6.65906269e-10  6.68866912e-10  6.70217795e-10\n",
            "  6.83033404e-10  7.36731244e-10  7.48475968e-10  7.60034388e-10\n",
            "  7.69611964e-10  7.91565198e-10  8.24864346e-10  8.57057488e-10\n",
            "  8.78457670e-10  9.00061383e-10  9.06113952e-10  9.55674112e-10\n",
            "  9.84100807e-10  1.02873555e-09  1.04745050e-09  1.08975124e-09\n",
            "  1.09526713e-09  1.11310878e-09  1.14974440e-09  1.15526126e-09\n",
            "  1.24295573e-09  1.27067911e-09  1.28296099e-09  1.29205635e-09\n",
            "  1.30993544e-09  1.34019151e-09  1.34668379e-09  1.38421557e-09\n",
            "  1.39277819e-09  1.43096438e-09  1.47866443e-09  1.48209490e-09\n",
            "  1.48572053e-09  1.49158764e-09  1.50515074e-09  1.54458484e-09\n",
            "  1.57226433e-09  1.60425142e-09  1.63269234e-09  1.64606442e-09\n",
            "  1.68318680e-09  1.68685405e-09  1.72676655e-09  1.78899093e-09\n",
            "  1.84109109e-09  1.88630512e-09  1.91467110e-09  1.95874760e-09\n",
            "  1.95919509e-09  1.97839641e-09  1.98921207e-09  2.06388237e-09\n",
            "  2.06427618e-09  2.22184980e-09  2.23564508e-09  2.28530172e-09\n",
            "  2.32870380e-09  2.38025019e-09  2.39398937e-09  2.44328983e-09\n",
            "  2.45672307e-09  2.49601050e-09  2.49971791e-09  2.50733853e-09\n",
            "  2.58117024e-09  2.61562642e-09  2.66015810e-09  2.77146478e-09\n",
            "  2.78826331e-09  2.81780309e-09  2.88166077e-09  2.88293001e-09\n",
            "  2.88840206e-09  2.88922337e-09  2.94695622e-09  3.01431290e-09\n",
            "  3.03486857e-09  3.06810215e-09  3.07165568e-09  3.11062865e-09\n",
            "  3.14443586e-09  3.18776947e-09  3.21959125e-09  3.22831003e-09\n",
            "  3.27735577e-09  3.29564581e-09  3.30019706e-09  3.37474201e-09\n",
            "  3.45175832e-09  3.53276702e-09  3.55230438e-09  3.56709442e-09\n",
            "  3.72606162e-09  3.75625186e-09  3.78047294e-09  3.85211405e-09\n",
            "  3.87241294e-09  3.90708768e-09  4.01397409e-09  4.05151108e-09\n",
            "  4.14525587e-09  4.18047869e-09  4.19608373e-09  4.23827616e-09\n",
            "  4.27021080e-09  4.40393002e-09  4.47891183e-09  4.51357572e-09\n",
            "  4.51736793e-09  4.62651226e-09  4.71588018e-09  4.73898182e-09\n",
            "  4.79592544e-09  4.85611943e-09  4.95102048e-09  5.01476091e-09\n",
            "  5.02144679e-09  5.02722404e-09  5.12264647e-09  5.16443727e-09\n",
            "  5.22599158e-09  5.38466097e-09  5.40442387e-09  5.41753787e-09\n",
            "  5.55419851e-09  5.58480949e-09  5.62868465e-09  5.78312812e-09\n",
            "  5.80958157e-09  6.02394608e-09  6.02499057e-09  6.09594879e-09\n",
            "  6.16148728e-09  6.32545003e-09  6.42537521e-09  6.45311418e-09\n",
            "  6.62491750e-09  6.71837674e-09  6.81366664e-09  6.89118348e-09\n",
            "  6.99721320e-09  7.10244892e-09  7.18244523e-09  7.29210474e-09\n",
            "  7.52534922e-09  7.74948196e-09  7.78507648e-09  7.86438320e-09\n",
            "  7.93819646e-09  8.11138215e-09  8.19163943e-09  8.21873645e-09\n",
            "  8.22617508e-09  8.81540197e-09  9.03481202e-09  9.08296040e-09\n",
            "  9.16835128e-09  9.39997151e-09  9.59095178e-09  9.61526055e-09\n",
            "  9.68349018e-09  9.98310565e-09  1.00993758e-08  1.07983382e-08\n",
            "  1.08118508e-08  1.08630180e-08  1.11140836e-08  1.12092324e-08\n",
            "  1.12528301e-08  1.19226604e-08  1.19374476e-08  1.20162316e-08\n",
            "  1.22241367e-08  1.23150964e-08  1.26178861e-08  1.29834222e-08\n",
            "  1.33034696e-08  1.34387615e-08  1.35600609e-08  1.39664577e-08\n",
            "  1.44426930e-08  1.44821505e-08  1.45923067e-08  1.47418378e-08\n",
            "  1.63120395e-08  1.64063840e-08  1.64290285e-08  1.66077443e-08\n",
            "  1.75029420e-08  1.78510291e-08  1.83748541e-08  1.89961533e-08\n",
            "  1.90395449e-08  1.98827721e-08  2.00011441e-08  2.09687633e-08\n",
            "  2.14854546e-08  2.24461182e-08  2.25437105e-08  2.29176465e-08\n",
            "  2.42251790e-08  2.43877835e-08  2.44547611e-08  2.61876315e-08\n",
            "  2.83883281e-08  2.98492938e-08  2.99564726e-08  2.99970675e-08\n",
            "  3.49987215e-08  3.54484913e-08  3.69905753e-08  3.79410520e-08\n",
            "  3.96824567e-08  4.04096882e-08  4.13631448e-08  4.66054404e-08\n",
            "  5.23072262e-08  5.59459964e-08  5.75688240e-08  6.29935968e-08\n",
            "  8.00291447e-08  1.14775420e-07  3.28982654e-07  4.29588470e-04\n",
            "  1.13882773e-03  1.97695198e-03  3.18900915e-03  7.09962635e-03\n",
            "  9.72209080e-03  1.61613628e-02  1.98503971e-02  4.06949057e-02\n",
            "  4.44067139e-02  9.45577119e-02  1.07597950e-01  2.12921330e-01\n",
            "  2.25398779e-01  3.82712951e-01  7.53587611e-01  1.36712550e+00\n",
            "  1.98576241e+00  4.86495390e+00  1.95840388e+01  4.99857648e+01\n",
            "  9.66828410e+01  2.11680737e+02  1.04033653e+03  3.28217652e+03\n",
            "  2.34525303e+04  3.08161865e+05  7.75214997e+05  6.15261128e+06\n",
            "  9.47805173e+08]\n",
            "eigen values of XTX:\n",
            "[4.29590107e-04 1.13882763e-03 1.97695370e-03 3.18901542e-03\n",
            " 7.09962583e-03 9.72208702e-03 1.61613717e-02 1.98503980e-02\n",
            " 4.06949124e-02 4.44067175e-02 9.45577172e-02 1.07597951e-01\n",
            " 2.12921328e-01 2.25398780e-01 3.82712945e-01 7.53587606e-01\n",
            " 1.36712551e+00 1.98576241e+00 4.86495394e+00 1.95840388e+01\n",
            " 4.99857648e+01 9.66828410e+01 2.11680737e+02 1.04033653e+03\n",
            " 3.28217652e+03 2.34525303e+04 3.08161865e+05 7.75214997e+05\n",
            " 6.15261128e+06 9.47805173e+08]\n"
          ]
        }
      ]
    },
    {
      "cell_type": "markdown",
      "metadata": {
        "id": "jvlnv43Isbei"
      },
      "source": [
        "## Important note about the results obtained from $\\texttt{np.linalg.eigh}$## \n",
        "\n",
        "Note that the results from $\\texttt{np.linalg.eigh}$ show some negative eigen values for $XX^\\top$ matrix. \n",
        "\n",
        "However from theory, we know that if $A$ is a $n \\times n$ symmetric and positive semi-definite matrix, then  the eigen values are non-negative. \n",
        "\n",
        "A proof of this result is given below. \n",
        "\n",
        "Hence the results from $\\texttt{np.linalg.eigh}$ should be interpreted carefully. The negative values are again due to numerical errors in algorithms. "
      ]
    },
    {
      "cell_type": "markdown",
      "metadata": {
        "id": "ARo3-pY_smcw"
      },
      "source": [
        "$\\mathbf{Result:}$ If $A$ is a $n \\times n$ symmetric and positive semi-definite matrix, then  the eigen values are non-negative. \n",
        "\n",
        "\n",
        "$\\textbf{Recall:}$ Since $A$ is symmetric and positive semi-definite, we know that $x^\\top Ax\\geq 0$ for any $x \\in {\\mathbb{R}}^n$. \n",
        "\n",
        "Now consider $v \\neq \\mathbf{0}$ as an eigen vector of $A$ with eigen value $\\lambda$, we have: $Av = \\lambda v$. \n",
        "\n",
        "Then we have by pre-multiplying by $v^\\top$:\n",
        "\n",
        "$\n",
        "\\begin{align}\n",
        "v^\\top Av &= v^\\top (\\lambda v) \\nonumber \\\\\n",
        "\\implies \\lambda v^\\top  v &\\geq 0 \\nonumber \n",
        "\\end{align}\n",
        "$\n",
        "\n",
        "Since we know that for a vector $v=\\begin{bmatrix}\n",
        "v_1 \\\\\n",
        "v_2 \\\\\n",
        "\\vdots \\\\\n",
        "v_n\n",
        "\\end{bmatrix} \\in {\\mathbb{R}}^n$, we have $v^\\top v = \\|v\\|_2^2 = \\sum_{i=1}^{n} v_i^2 \\geq 0$ . \n",
        "\n",
        "Since $v \\neq \\mathbf{0}$, we have $\\|v\\|_2^2 > 0$. \n",
        "\n",
        "Thus  from $\\lambda v^\\top  v \\geq 0$ and $v^\\top v > 0$, we have $\\lambda  \\geq 0$. "
      ]
    },
    {
      "cell_type": "code",
      "metadata": {
        "colab": {
          "base_uri": "https://localhost:8080/"
        },
        "id": "j9gP2Tip0kan",
        "outputId": "08be2068-1f9e-4ff3-f9d4-01ba40d5a7f3"
      },
      "source": [
        "#checking if XXT and XTX are have same positive eigen values \n",
        "#we will use linalg.eigh in numpy, which can be useful for symmetric matrices \n",
        "\n",
        "print('positive eigen values of XXT:')\n",
        "eig_val_XXT,_ = np.linalg.eigh(XXT)\n",
        "print( eig_val_XXT[np.where(eig_val_XXT > 0)])\n",
        "\n",
        "\n",
        "print('positive eigen values of XXT:')\n",
        "eig_val_XTX,_ = np.linalg.eigh(XTX)\n",
        "print( eig_val_XTX[np.where(eig_val_XTX > 0)])\n"
      ],
      "execution_count": null,
      "outputs": [
        {
          "output_type": "stream",
          "name": "stdout",
          "text": [
            "positive eigen values of XXT:\n",
            "[1.51111036e-11 3.59411529e-11 4.60695331e-11 5.24439701e-11\n",
            " 7.65673633e-11 1.02777402e-10 1.16433370e-10 1.49968739e-10\n",
            " 1.81420587e-10 2.03653596e-10 2.08081873e-10 2.63286509e-10\n",
            " 2.88207165e-10 2.99506974e-10 3.50196094e-10 3.70339138e-10\n",
            " 3.89597351e-10 3.95319217e-10 4.00313619e-10 4.11271591e-10\n",
            " 4.26474801e-10 4.44519605e-10 5.07124541e-10 5.26084848e-10\n",
            " 5.44577085e-10 5.72649241e-10 5.97471851e-10 6.10772662e-10\n",
            " 6.65906269e-10 6.68866912e-10 6.70217795e-10 6.83033404e-10\n",
            " 7.36731244e-10 7.48475968e-10 7.60034388e-10 7.69611964e-10\n",
            " 7.91565198e-10 8.24864346e-10 8.57057488e-10 8.78457670e-10\n",
            " 9.00061383e-10 9.06113952e-10 9.55674112e-10 9.84100807e-10\n",
            " 1.02873555e-09 1.04745050e-09 1.08975124e-09 1.09526713e-09\n",
            " 1.11310878e-09 1.14974440e-09 1.15526126e-09 1.24295573e-09\n",
            " 1.27067911e-09 1.28296099e-09 1.29205635e-09 1.30993544e-09\n",
            " 1.34019151e-09 1.34668379e-09 1.38421557e-09 1.39277819e-09\n",
            " 1.43096438e-09 1.47866443e-09 1.48209490e-09 1.48572053e-09\n",
            " 1.49158764e-09 1.50515074e-09 1.54458484e-09 1.57226433e-09\n",
            " 1.60425142e-09 1.63269234e-09 1.64606442e-09 1.68318680e-09\n",
            " 1.68685405e-09 1.72676655e-09 1.78899093e-09 1.84109109e-09\n",
            " 1.88630512e-09 1.91467110e-09 1.95874760e-09 1.95919509e-09\n",
            " 1.97839641e-09 1.98921207e-09 2.06388237e-09 2.06427618e-09\n",
            " 2.22184980e-09 2.23564508e-09 2.28530172e-09 2.32870380e-09\n",
            " 2.38025019e-09 2.39398937e-09 2.44328983e-09 2.45672307e-09\n",
            " 2.49601050e-09 2.49971791e-09 2.50733853e-09 2.58117024e-09\n",
            " 2.61562642e-09 2.66015810e-09 2.77146478e-09 2.78826331e-09\n",
            " 2.81780309e-09 2.88166077e-09 2.88293001e-09 2.88840206e-09\n",
            " 2.88922337e-09 2.94695622e-09 3.01431290e-09 3.03486857e-09\n",
            " 3.06810215e-09 3.07165568e-09 3.11062865e-09 3.14443586e-09\n",
            " 3.18776947e-09 3.21959125e-09 3.22831003e-09 3.27735577e-09\n",
            " 3.29564581e-09 3.30019706e-09 3.37474201e-09 3.45175832e-09\n",
            " 3.53276702e-09 3.55230438e-09 3.56709442e-09 3.72606162e-09\n",
            " 3.75625186e-09 3.78047294e-09 3.85211405e-09 3.87241294e-09\n",
            " 3.90708768e-09 4.01397409e-09 4.05151108e-09 4.14525587e-09\n",
            " 4.18047869e-09 4.19608373e-09 4.23827616e-09 4.27021080e-09\n",
            " 4.40393002e-09 4.47891183e-09 4.51357572e-09 4.51736793e-09\n",
            " 4.62651226e-09 4.71588018e-09 4.73898182e-09 4.79592544e-09\n",
            " 4.85611943e-09 4.95102048e-09 5.01476091e-09 5.02144679e-09\n",
            " 5.02722404e-09 5.12264647e-09 5.16443727e-09 5.22599158e-09\n",
            " 5.38466097e-09 5.40442387e-09 5.41753787e-09 5.55419851e-09\n",
            " 5.58480949e-09 5.62868465e-09 5.78312812e-09 5.80958157e-09\n",
            " 6.02394608e-09 6.02499057e-09 6.09594879e-09 6.16148728e-09\n",
            " 6.32545003e-09 6.42537521e-09 6.45311418e-09 6.62491750e-09\n",
            " 6.71837674e-09 6.81366664e-09 6.89118348e-09 6.99721320e-09\n",
            " 7.10244892e-09 7.18244523e-09 7.29210474e-09 7.52534922e-09\n",
            " 7.74948196e-09 7.78507648e-09 7.86438320e-09 7.93819646e-09\n",
            " 8.11138215e-09 8.19163943e-09 8.21873645e-09 8.22617508e-09\n",
            " 8.81540197e-09 9.03481202e-09 9.08296040e-09 9.16835128e-09\n",
            " 9.39997151e-09 9.59095178e-09 9.61526055e-09 9.68349018e-09\n",
            " 9.98310565e-09 1.00993758e-08 1.07983382e-08 1.08118508e-08\n",
            " 1.08630180e-08 1.11140836e-08 1.12092324e-08 1.12528301e-08\n",
            " 1.19226604e-08 1.19374476e-08 1.20162316e-08 1.22241367e-08\n",
            " 1.23150964e-08 1.26178861e-08 1.29834222e-08 1.33034696e-08\n",
            " 1.34387615e-08 1.35600609e-08 1.39664577e-08 1.44426930e-08\n",
            " 1.44821505e-08 1.45923067e-08 1.47418378e-08 1.63120395e-08\n",
            " 1.64063840e-08 1.64290285e-08 1.66077443e-08 1.75029420e-08\n",
            " 1.78510291e-08 1.83748541e-08 1.89961533e-08 1.90395449e-08\n",
            " 1.98827721e-08 2.00011441e-08 2.09687633e-08 2.14854546e-08\n",
            " 2.24461182e-08 2.25437105e-08 2.29176465e-08 2.42251790e-08\n",
            " 2.43877835e-08 2.44547611e-08 2.61876315e-08 2.83883281e-08\n",
            " 2.98492938e-08 2.99564726e-08 2.99970675e-08 3.49987215e-08\n",
            " 3.54484913e-08 3.69905753e-08 3.79410520e-08 3.96824567e-08\n",
            " 4.04096882e-08 4.13631448e-08 4.66054404e-08 5.23072262e-08\n",
            " 5.59459964e-08 5.75688240e-08 6.29935968e-08 8.00291447e-08\n",
            " 1.14775420e-07 3.28982654e-07 4.29588470e-04 1.13882773e-03\n",
            " 1.97695198e-03 3.18900915e-03 7.09962635e-03 9.72209080e-03\n",
            " 1.61613628e-02 1.98503971e-02 4.06949057e-02 4.44067139e-02\n",
            " 9.45577119e-02 1.07597950e-01 2.12921330e-01 2.25398779e-01\n",
            " 3.82712951e-01 7.53587611e-01 1.36712550e+00 1.98576241e+00\n",
            " 4.86495390e+00 1.95840388e+01 4.99857648e+01 9.66828410e+01\n",
            " 2.11680737e+02 1.04033653e+03 3.28217652e+03 2.34525303e+04\n",
            " 3.08161865e+05 7.75214997e+05 6.15261128e+06 9.47805173e+08]\n",
            "positive eigen values of XXT:\n",
            "[4.29590107e-04 1.13882763e-03 1.97695370e-03 3.18901542e-03\n",
            " 7.09962583e-03 9.72208702e-03 1.61613717e-02 1.98503980e-02\n",
            " 4.06949124e-02 4.44067175e-02 9.45577172e-02 1.07597951e-01\n",
            " 2.12921328e-01 2.25398780e-01 3.82712945e-01 7.53587606e-01\n",
            " 1.36712551e+00 1.98576241e+00 4.86495394e+00 1.95840388e+01\n",
            " 4.99857648e+01 9.66828410e+01 2.11680737e+02 1.04033653e+03\n",
            " 3.28217652e+03 2.34525303e+04 3.08161865e+05 7.75214997e+05\n",
            " 6.15261128e+06 9.47805173e+08]\n"
          ]
        }
      ]
    },
    {
      "cell_type": "markdown",
      "metadata": {
        "id": "HT3DTUZnth81"
      },
      "source": [
        "##Note about the precision of eigen values:## \n",
        "\n",
        "Please note that there are a few positive eigen values which are close to zero. However in this case, we can guarantee that these values should be zero. \n",
        "\n",
        "These issues highlight some numerical issues when computing eigen values and eigen vectors using $\\texttt{numpy.linalg.eig}$ and $\\texttt{numpy.linalg.eigh}$. "
      ]
    },
    {
      "cell_type": "code",
      "metadata": {
        "colab": {
          "base_uri": "https://localhost:8080/"
        },
        "id": "Sca2pLxh0yy-",
        "outputId": "93dfe9e3-9b3a-46fb-d0a5-ec91b9ba4c90"
      },
      "source": [
        "#check rank of matrices XXT and XTX \n",
        "\n",
        "print('rank(XXT):', np.linalg.matrix_rank(XXT), 'rank(XTX):', np.linalg.matrix_rank(XTX))"
      ],
      "execution_count": null,
      "outputs": [
        {
          "output_type": "stream",
          "name": "stdout",
          "text": [
            "rank(XXT): 30 rank(XTX): 30\n"
          ]
        }
      ]
    },
    {
      "cell_type": "markdown",
      "metadata": {
        "id": "KqwrR0FntzIz"
      },
      "source": [
        "## Rank of matrix $A$ :## \n",
        "\n",
        "Note that for a matrix $A$ of size $m \\times n$, $rank(A)$ is defined as the number of linearly independent rows or columns in $A$. \n",
        "\n",
        "$rank(A)$= Number of non-zero eigen values of $A$.\n",
        "\n",
        "Hence $rank(A) \\leq \\min\\{m,n\\}$. \n",
        "\n",
        "If $rank(A) = \\min\\{m,n\\}$ then the matrix is called full rank. \n",
        "\n",
        "Note that for $\\textit{breast cancer}$ data set, we have $X^\\top X$ to be of size $30 \\times 30$. Also note that $rank(X^\\top X)=30$, hence $X^\\top X$ is full-rank. "
      ]
    },
    {
      "cell_type": "markdown",
      "metadata": {
        "id": "ujYH1YM9t5vO"
      },
      "source": [
        "## Checking alignment of sample features using dot products ## "
      ]
    },
    {
      "cell_type": "code",
      "metadata": {
        "colab": {
          "base_uri": "https://localhost:8080/"
        },
        "id": "YHqyK55l1Umd",
        "outputId": "f3fb3ce6-1239-4477-c90c-fbb19ab6b46e"
      },
      "source": [
        "#Take some samples of the same class \n",
        "\n",
        "X_class0 = X[np.where(y==0),:].squeeze()\n",
        "print(X_class0.shape)\n",
        "\n",
        "X_class1 = X[np.where(y==1),:].squeeze()\n",
        "print(X_class1.shape)"
      ],
      "execution_count": null,
      "outputs": [
        {
          "output_type": "stream",
          "name": "stdout",
          "text": [
            "(212, 30)\n",
            "(357, 30)\n"
          ]
        }
      ]
    },
    {
      "cell_type": "code",
      "metadata": {
        "colab": {
          "base_uri": "https://localhost:8080/"
        },
        "id": "odrmxd0d1f2r",
        "outputId": "cca9bcd6-c8e3-485f-94f1-a04eb97a634e"
      },
      "source": [
        "#Let us find the dot product between some samples of class 0\n",
        "print(np.dot(X_class0[0]/np.linalg.norm(X_class0[0]),X_class0[1]/np.linalg.norm(X_class0[1])) )"
      ],
      "execution_count": null,
      "outputs": [
        {
          "output_type": "stream",
          "name": "stdout",
          "text": [
            "0.9901630291785707\n"
          ]
        }
      ]
    },
    {
      "cell_type": "code",
      "metadata": {
        "colab": {
          "base_uri": "https://localhost:8080/"
        },
        "id": "v5JAe24c11Ll",
        "outputId": "19dd8189-42d4-412b-953a-06a28c58822e"
      },
      "source": [
        "#Let us find the dot product between some samples of class 1\n",
        "print(np.dot(X_class1[30]/np.linalg.norm(X_class1[30]),X_class1[42]/np.linalg.norm(X_class1[42])) )"
      ],
      "execution_count": null,
      "outputs": [
        {
          "output_type": "stream",
          "name": "stdout",
          "text": [
            "0.9938802981522772\n"
          ]
        }
      ]
    },
    {
      "cell_type": "code",
      "metadata": {
        "colab": {
          "base_uri": "https://localhost:8080/"
        },
        "id": "un0Jn2t319qM",
        "outputId": "83c2668f-8796-4a01-c920-2b4e03968b8a"
      },
      "source": [
        "#Let us find the dot product between some samples of class 0 and class 1\n",
        "print(np.dot(X_class0[0]/np.linalg.norm(X_class0[0]),X_class1[10]/np.linalg.norm(X_class1[10])) )"
      ],
      "execution_count": null,
      "outputs": [
        {
          "output_type": "stream",
          "name": "stdout",
          "text": [
            "0.9728237531661882\n"
          ]
        }
      ]
    },
    {
      "cell_type": "markdown",
      "metadata": {
        "id": "Kbaoq9gWAIkK"
      },
      "source": [
        "# Linear/nonlinear trends between input and output values"
      ]
    },
    {
      "cell_type": "markdown",
      "metadata": {
        "id": "fKQwwCC7d1ZW"
      },
      "source": [
        "We will now visualize the linear positive/negative relationship, nonlinear relationship among input variables and the associated output.\n",
        "These concepts will help us in the better understanding of linear regression and classification models in the upcoming lectures."
      ]
    },
    {
      "cell_type": "code",
      "metadata": {
        "colab": {
          "base_uri": "https://localhost:8080/"
        },
        "id": "Rx9ZUF3UAbhc",
        "outputId": "30099e83-7886-430d-fa0c-22c26281fca8"
      },
      "source": [
        "## Generate random input values\n",
        "x_axis = np.linspace(-5,5,15) ## It generates 15 evenly spaced random values lie between -5 and +5\n",
        "print ('Properties of x_axis:')\n",
        "print ('Type =',type(x_axis))\n",
        "print ('values:', x_axis)\n",
        "print ('shape:',x_axis.shape)"
      ],
      "execution_count": null,
      "outputs": [
        {
          "output_type": "stream",
          "name": "stdout",
          "text": [
            "Properties of x_axis:\n",
            "Type = <class 'numpy.ndarray'>\n",
            "values: [-5.         -4.28571429 -3.57142857 -2.85714286 -2.14285714 -1.42857143\n",
            " -0.71428571  0.          0.71428571  1.42857143  2.14285714  2.85714286\n",
            "  3.57142857  4.28571429  5.        ]\n",
            "shape: (15,)\n"
          ]
        }
      ]
    },
    {
      "cell_type": "markdown",
      "metadata": {
        "id": "o960FRqBgvy4"
      },
      "source": [
        "Linear positive trend:\n",
        "$y = kx+noise$, where $k$ is some positive scalar"
      ]
    },
    {
      "cell_type": "code",
      "metadata": {
        "colab": {
          "base_uri": "https://localhost:8080/",
          "height": 347
        },
        "id": "ubhbJnZBFpu3",
        "outputId": "42347b37-32b2-4e36-dca9-01c477ffc6b5"
      },
      "source": [
        "# linear positive trend\n",
        "noise = np.random.normal(0,1,15)\n",
        "y_ptrend = 2*x_axis + noise ## scalar multiplication and addition\n",
        "print ('y_ptrend:',y_ptrend)\n",
        "\n",
        "# plot the values on x axis and y axis\n",
        "import matplotlib.pyplot as plt\n",
        "\n",
        "plt.scatter(x_axis, y_ptrend,color = 'blue')\n",
        "plt.title(\"positive linear trend\")\n",
        "plt.xlabel(\"x\")\n",
        "plt.ylabel(\"y\")\n",
        "plt.show()"
      ],
      "execution_count": null,
      "outputs": [
        {
          "output_type": "stream",
          "name": "stdout",
          "text": [
            "y_ptrend: [-10.57649394  -9.0377413   -6.85342874  -5.84696191  -5.60210697\n",
            "  -2.97905807  -0.07440475  -1.56623932   2.41859505   3.46892388\n",
            "   3.74282619   6.6925177    7.21239354   8.78000043   9.3689045 ]\n"
          ]
        },
        {
          "output_type": "display_data",
          "data": {
            "image/png": "[encoded data removed]",
            "text/plain": [
              "<Figure size 432x288 with 1 Axes>"
            ]
          },
          "metadata": {
            "needs_background": "light"
          }
        }
      ]
    },
    {
      "cell_type": "markdown",
      "metadata": {
        "id": "VVoOzF41hYfy"
      },
      "source": [
        "Linear negative trend:\n",
        "$y = -kx+noise$, where $k$ is some positive scalar"
      ]
    },
    {
      "cell_type": "code",
      "metadata": {
        "colab": {
          "base_uri": "https://localhost:8080/",
          "height": 347
        },
        "id": "nHJY2EoAHbx1",
        "outputId": "b00eb4c2-3757-4fe9-8843-5ff7da590019"
      },
      "source": [
        "# negative linear trend\n",
        "np.linspace(-5,5,15)\n",
        "noise = np.random.normal(0,1,15)\n",
        "y_ntrend = (-2)*x_axis +noise # scalar multiplication and addition\n",
        "print ('y_ntrend:',y_ntrend)\n",
        "\n",
        "# plot the values on x axis and y axis\n",
        "import matplotlib.pyplot as plt\n",
        "\n",
        "plt.scatter(x_axis, y_ntrend,color = 'magenta')\n",
        "plt.title(\"negative linear trend\")\n",
        "plt.xlabel(\"x\")\n",
        "plt.ylabel(\"y\")\n",
        "plt.show()"
      ],
      "execution_count": null,
      "outputs": [
        {
          "output_type": "stream",
          "name": "stdout",
          "text": [
            "y_ntrend: [ 11.92254002   7.77417499   7.58934286   6.72064296   5.02710284\n",
            "   3.76831196  -0.28231237  -1.06544591   1.01827309  -2.28548384\n",
            "  -5.75640042  -7.57165915  -8.97402584 -10.13772482 -11.23355925]\n"
          ]
        },
        {
          "output_type": "display_data",
          "data": {
            "image/png": "[encoded data removed]",
            "text/plain": [
              "<Figure size 432x288 with 1 Axes>"
            ]
          },
          "metadata": {
            "needs_background": "light"
          }
        }
      ]
    },
    {
      "cell_type": "markdown",
      "metadata": {
        "id": "EgPxPJbGhl-e"
      },
      "source": [
        "positive nonlinear trend:\n",
        "$y = tanh(x)+noise$.  \n"
      ]
    },
    {
      "cell_type": "code",
      "metadata": {
        "colab": {
          "base_uri": "https://localhost:8080/",
          "height": 346
        },
        "id": "fu26NKO7D9jG",
        "outputId": "2c987c84-abd6-4da8-f35d-458884324497"
      },
      "source": [
        "# positive nonlinear trend: y = tanh(x)\n",
        "noise = np.random.normal(0,0.05,15)\n",
        "y_axis = np.tanh(x_axis) + noise\n",
        "print ('y axis:',y_axis)\n",
        "\n",
        "## plot the values on x axis and y axis\n",
        "import matplotlib.pyplot as plt\n",
        "\n",
        "plt.scatter(x_axis, y_axis,color = 'red')\n",
        "plt.title(\"positive nonlinear trend\")\n",
        "plt.xlabel(\"x\")\n",
        "plt.ylabel(\"y\")\n",
        "plt.show()"
      ],
      "execution_count": null,
      "outputs": [
        {
          "output_type": "stream",
          "name": "stdout",
          "text": [
            "y axis: [-1.02228276 -0.92884909 -1.00287973 -1.09906409 -1.01427291 -0.92647136\n",
            " -0.66863639 -0.0364088   0.5900509   0.97351402  0.97549467  0.87014182\n",
            "  0.9196839   1.01915822  1.05477131]\n"
          ]
        },
        {
          "output_type": "display_data",
          "data": {
            "image/png": "[encoded data removed]",
            "text/plain": [
              "<Figure size 432x288 with 1 Axes>"
            ]
          },
          "metadata": {
            "needs_background": "light"
          }
        }
      ]
    },
    {
      "cell_type": "markdown",
      "metadata": {
        "id": "i5BM85MVkcge"
      },
      "source": [
        "\n",
        "As $x$ increases, $y$ also increases nonlinearly. Plotting more values will make the graph smoother. We can see from the above figure that as x increases, y goes to +1 and as x decreases, y goes to $-1$.\n"
      ]
    },
    {
      "cell_type": "code",
      "metadata": {
        "colab": {
          "base_uri": "https://localhost:8080/",
          "height": 347
        },
        "id": "BwFqKeBliOsU",
        "outputId": "9eac0861-8120-4624-86c4-a71152b1839c"
      },
      "source": [
        "# negative nonlinear trend: y = exp(-x)\n",
        "noise = np.random.normal(0,1,15)\n",
        "y_axis = np.exp(-x_axis) + noise\n",
        "print ('y axis:',y_axis)\n",
        "\n",
        "## plot the values on x axis and y axis\n",
        "import matplotlib.pyplot as plt\n",
        "\n",
        "plt.scatter(x_axis, y_axis,color = 'red')\n",
        "plt.title(\"negative nonlinear trend\")\n",
        "plt.xlabel(\"x\")\n",
        "plt.ylabel(\"y\")\n",
        "plt.show()"
      ],
      "execution_count": null,
      "outputs": [
        {
          "output_type": "stream",
          "name": "stdout",
          "text": [
            "y axis: [146.48117534  71.7442984   35.72306817  17.24278435   8.48117497\n",
            "   5.01766106   0.87409109   2.40374772  -0.85356948  -1.25766079\n",
            "  -0.21610085   1.77986071   0.66765225  -0.3019362    0.15207541]\n"
          ]
        },
        {
          "output_type": "display_data",
          "data": {
            "image/png": "[encoded data removed]",
            "text/plain": [
              "<Figure size 432x288 with 1 Axes>"
            ]
          },
          "metadata": {
            "needs_background": "light"
          }
        }
      ]
    },
    {
      "cell_type": "markdown",
      "metadata": {
        "id": "HpdHYc1fqz8Y"
      },
      "source": [
        "# Visualizing a 2-dimensional binary classification data"
      ]
    },
    {
      "cell_type": "markdown",
      "metadata": {
        "id": "So6EszVmswxg"
      },
      "source": [
        "Generate a 2-dimensional binary dataset using function \"make_classification\" from sklearn library and scatter the generated samples on 2d graph.\n",
        "\n",
        "n_samples = number of samples,\n",
        "\n",
        "n_features = number of features,\n",
        "\n",
        "n_repeated = number of repeated features,\n",
        "\n",
        "n_redundant = number of redundant features,\n",
        "\n",
        "class_sep = measures the separation between samples of different classes. Larger the value of class_sep, more will be the separtion between samples of different classes.\n",
        "\n",
        "random_state = seed to generate random samples"
      ]
    },
    {
      "cell_type": "code",
      "metadata": {
        "colab": {
          "base_uri": "https://localhost:8080/",
          "height": 414
        },
        "id": "qiv_xRZwJxZL",
        "outputId": "c276152d-551b-45e2-c1f5-d0b074ee0920"
      },
      "source": [
        "from sklearn import datasets\n",
        "x, y = datasets.make_classification(n_samples=100,n_features=2,n_repeated=0,class_sep=0.1,n_redundant=0,random_state=100)\n",
        "\n",
        "# Create the plot\n",
        "\n",
        "fig, ax = plt.subplots(figsize=(8, 6))\n",
        "plt.xlabel(\"$x_0$\", fontsize=20)\n",
        "plt.ylabel(\"$x_1$\", fontsize=20)\n",
        "plt.scatter(x[:,0], x[:,1], s=40, c=y)\n",
        "# print (x)"
      ],
      "execution_count": null,
      "outputs": [
        {
          "output_type": "execute_result",
          "data": {
            "text/plain": [
              "<matplotlib.collections.PathCollection at 0x7fd3611da0d0>"
            ]
          },
          "metadata": {},
          "execution_count": 40
        },
        {
          "output_type": "display_data",
          "data": {
            "image/png": "[encoded data removed]",
            "text/plain": [
              "<Figure size 576x432 with 1 Axes>"
            ]
          },
          "metadata": {
            "needs_background": "light"
          }
        }
      ]
    },
    {
      "cell_type": "markdown",
      "metadata": {
        "id": "7kj1upm5uw8i"
      },
      "source": [
        "# **Solving a system of linear equations**\n",
        "Let $A$ be a $n\\times n$ matrix with real entries and $b\\in\\mathbb{R}^n$ then we can solve the linear system of equation $Ax=b,\\,\\,x\\in\\mathbb{R}^n$. A system of linear equations can give rise to the following cases:\n",
        "- Unique solution\n",
        "- Multiple solution\n",
        "- No solution."
      ]
    },
    {
      "cell_type": "markdown",
      "metadata": {
        "id": "mWqI6Ep9MR8u"
      },
      "source": [
        "## **Unique Solution**\n",
        "Consider $A=5I_4-\\begin{bmatrix}\n",
        "1 &1 &1 &1\\\\\n",
        "1 &1 &1 &1\\\\\n",
        "1 &1 &1 &1\\\\\n",
        "1 &1 &1 &1\n",
        "\\end{bmatrix}=\\begin{bmatrix}\n",
        "4 &-1 &-1 &-1\\\\\n",
        "-1 &4 &-1 &-1\\\\\n",
        "-1 &-1 &4 &-1\\\\\n",
        "-1 &-1 &-1 &4\n",
        "\\end{bmatrix}$ and $b=\\begin{bmatrix}\n",
        "1\\\\\n",
        "2\\\\\n",
        "3\\\\\n",
        "4\n",
        "\\end{bmatrix}$.\n",
        "\n",
        "We want to find $x$ which satisfies $Ax=b$."
      ]
    },
    {
      "cell_type": "code",
      "metadata": {
        "id": "neuwjz5MwcGi",
        "colab": {
          "base_uri": "https://localhost:8080/"
        },
        "outputId": "c621e7bf-2ed0-4f94-be17-403c7ef0a5a8"
      },
      "source": [
        "#We entering the values of A and b\n",
        "A = np.array([[4, -1, -1, -1], [-1, 4, -1, -1], [-1, -1, 4, -1], [-1, -1, -1, 4]])\n",
        "b = np.array([1, 2, 3, 4])\n",
        "#In order to solve a linear system of equations Ax=b, the following command can be used\n",
        "x = np.linalg.solve(A, b) \n",
        "print('x =',x)"
      ],
      "execution_count": null,
      "outputs": [
        {
          "output_type": "stream",
          "name": "stdout",
          "text": [
            "x = [2.2 2.4 2.6 2.8]\n"
          ]
        }
      ]
    },
    {
      "cell_type": "markdown",
      "metadata": {
        "id": "nce_GKlTBsxn"
      },
      "source": [
        "Solving $Ax=b$ for a square matrix $A$ can be equivalently written as\n",
        "\\begin{align*}\n",
        "&Ax=b\\\\\n",
        "\\implies &x=A^{-1}b\n",
        "\\end{align*}\n",
        "**provided $A^{-1}$ exists.**"
      ]
    },
    {
      "cell_type": "code",
      "metadata": {
        "colab": {
          "base_uri": "https://localhost:8080/"
        },
        "id": "dnWkaG7uCQYw",
        "outputId": "b730a63d-3805-4a7f-8b25-4b6cf259bba5"
      },
      "source": [
        "A_inv = np.linalg.inv(A)\n",
        "y = np.matmul(A_inv, b)\n",
        "print(y)"
      ],
      "execution_count": null,
      "outputs": [
        {
          "output_type": "stream",
          "name": "stdout",
          "text": [
            "[2.2 2.4 2.6 2.8]\n"
          ]
        }
      ]
    },
    {
      "cell_type": "markdown",
      "metadata": {
        "id": "fL9QgQNLKaFS"
      },
      "source": [
        "## **Multiple Solutions**\n",
        "Consider the following system of equations\n",
        "\\begin{align*}\n",
        "2x+3y+z&=9\\\\\n",
        "x+y+z&=11\\\\\n",
        "4x+6y+2z&=18.\n",
        "\\end{align*}\n",
        "In this case $A=\\begin{bmatrix}\n",
        "2 &3 &1\\\\\n",
        "1 &1 &1\\\\\n",
        "4 &6 &2 \n",
        "\\end{bmatrix}$ and $b=\\begin{bmatrix}\n",
        "9\\\\\n",
        "11\\\\\n",
        "18\n",
        "\\end{bmatrix}$."
      ]
    },
    {
      "cell_type": "code",
      "metadata": {
        "colab": {
          "base_uri": "https://localhost:8080/",
          "height": 374
        },
        "id": "3oRbWcM_KnTN",
        "outputId": "1aa7ffec-c9eb-4c08-a052-cb5f9a121ab1"
      },
      "source": [
        "#We entering the values of A and b\n",
        "A = np.array([[2, 3, 1], [1, 1, 1], [4, 6, 2]])\n",
        "b = np.array([9, 11, 18])\n",
        "#In order to solve a linear system of equations Ax=b, the following command can be used\n",
        "x = np.linalg.solve(A, b)"
      ],
      "execution_count": null,
      "outputs": [
        {
          "output_type": "error",
          "ename": "LinAlgError",
          "evalue": "ignored",
          "traceback": [
            "\u001b[0;31m---------------------------------------------------------------------------\u001b[0m",
            "\u001b[0;31mLinAlgError\u001b[0m                               Traceback (most recent call last)",
            "\u001b[0;32m<ipython-input-26-8499918d2264>\u001b[0m in \u001b[0;36m<module>\u001b[0;34m()\u001b[0m\n\u001b[1;32m      3\u001b[0m \u001b[0mb\u001b[0m \u001b[0;34m=\u001b[0m \u001b[0mnp\u001b[0m\u001b[0;34m.\u001b[0m\u001b[0marray\u001b[0m\u001b[0;34m(\u001b[0m\u001b[0;34m[\u001b[0m\u001b[0;36m9\u001b[0m\u001b[0;34m,\u001b[0m \u001b[0;36m11\u001b[0m\u001b[0;34m,\u001b[0m \u001b[0;36m18\u001b[0m\u001b[0;34m]\u001b[0m\u001b[0;34m)\u001b[0m\u001b[0;34m\u001b[0m\u001b[0;34m\u001b[0m\u001b[0m\n\u001b[1;32m      4\u001b[0m \u001b[0;31m#In order to solve a linear system of equations Ax=b, the following command can be used\u001b[0m\u001b[0;34m\u001b[0m\u001b[0;34m\u001b[0m\u001b[0;34m\u001b[0m\u001b[0m\n\u001b[0;32m----> 5\u001b[0;31m \u001b[0mx\u001b[0m \u001b[0;34m=\u001b[0m \u001b[0mnp\u001b[0m\u001b[0;34m.\u001b[0m\u001b[0mlinalg\u001b[0m\u001b[0;34m.\u001b[0m\u001b[0msolve\u001b[0m\u001b[0;34m(\u001b[0m\u001b[0mA\u001b[0m\u001b[0;34m,\u001b[0m \u001b[0mb\u001b[0m\u001b[0;34m)\u001b[0m\u001b[0;34m\u001b[0m\u001b[0;34m\u001b[0m\u001b[0m\n\u001b[0m",
            "\u001b[0;32m<__array_function__ internals>\u001b[0m in \u001b[0;36msolve\u001b[0;34m(*args, **kwargs)\u001b[0m\n",
            "\u001b[0;32m/usr/local/lib/python3.7/dist-packages/numpy/linalg/linalg.py\u001b[0m in \u001b[0;36msolve\u001b[0;34m(a, b)\u001b[0m\n\u001b[1;32m    392\u001b[0m     \u001b[0msignature\u001b[0m \u001b[0;34m=\u001b[0m \u001b[0;34m'DD->D'\u001b[0m \u001b[0;32mif\u001b[0m \u001b[0misComplexType\u001b[0m\u001b[0;34m(\u001b[0m\u001b[0mt\u001b[0m\u001b[0;34m)\u001b[0m \u001b[0;32melse\u001b[0m \u001b[0;34m'dd->d'\u001b[0m\u001b[0;34m\u001b[0m\u001b[0;34m\u001b[0m\u001b[0m\n\u001b[1;32m    393\u001b[0m     \u001b[0mextobj\u001b[0m \u001b[0;34m=\u001b[0m \u001b[0mget_linalg_error_extobj\u001b[0m\u001b[0;34m(\u001b[0m\u001b[0m_raise_linalgerror_singular\u001b[0m\u001b[0;34m)\u001b[0m\u001b[0;34m\u001b[0m\u001b[0;34m\u001b[0m\u001b[0m\n\u001b[0;32m--> 394\u001b[0;31m     \u001b[0mr\u001b[0m \u001b[0;34m=\u001b[0m \u001b[0mgufunc\u001b[0m\u001b[0;34m(\u001b[0m\u001b[0ma\u001b[0m\u001b[0;34m,\u001b[0m \u001b[0mb\u001b[0m\u001b[0;34m,\u001b[0m \u001b[0msignature\u001b[0m\u001b[0;34m=\u001b[0m\u001b[0msignature\u001b[0m\u001b[0;34m,\u001b[0m \u001b[0mextobj\u001b[0m\u001b[0;34m=\u001b[0m\u001b[0mextobj\u001b[0m\u001b[0;34m)\u001b[0m\u001b[0;34m\u001b[0m\u001b[0;34m\u001b[0m\u001b[0m\n\u001b[0m\u001b[1;32m    395\u001b[0m \u001b[0;34m\u001b[0m\u001b[0m\n\u001b[1;32m    396\u001b[0m     \u001b[0;32mreturn\u001b[0m \u001b[0mwrap\u001b[0m\u001b[0;34m(\u001b[0m\u001b[0mr\u001b[0m\u001b[0;34m.\u001b[0m\u001b[0mastype\u001b[0m\u001b[0;34m(\u001b[0m\u001b[0mresult_t\u001b[0m\u001b[0;34m,\u001b[0m \u001b[0mcopy\u001b[0m\u001b[0;34m=\u001b[0m\u001b[0;32mFalse\u001b[0m\u001b[0;34m)\u001b[0m\u001b[0;34m)\u001b[0m\u001b[0;34m\u001b[0m\u001b[0;34m\u001b[0m\u001b[0m\n",
            "\u001b[0;32m/usr/local/lib/python3.7/dist-packages/numpy/linalg/linalg.py\u001b[0m in \u001b[0;36m_raise_linalgerror_singular\u001b[0;34m(err, flag)\u001b[0m\n\u001b[1;32m     86\u001b[0m \u001b[0;34m\u001b[0m\u001b[0m\n\u001b[1;32m     87\u001b[0m \u001b[0;32mdef\u001b[0m \u001b[0m_raise_linalgerror_singular\u001b[0m\u001b[0;34m(\u001b[0m\u001b[0merr\u001b[0m\u001b[0;34m,\u001b[0m \u001b[0mflag\u001b[0m\u001b[0;34m)\u001b[0m\u001b[0;34m:\u001b[0m\u001b[0;34m\u001b[0m\u001b[0;34m\u001b[0m\u001b[0m\n\u001b[0;32m---> 88\u001b[0;31m     \u001b[0;32mraise\u001b[0m \u001b[0mLinAlgError\u001b[0m\u001b[0;34m(\u001b[0m\u001b[0;34m\"Singular matrix\"\u001b[0m\u001b[0;34m)\u001b[0m\u001b[0;34m\u001b[0m\u001b[0;34m\u001b[0m\u001b[0m\n\u001b[0m\u001b[1;32m     89\u001b[0m \u001b[0;34m\u001b[0m\u001b[0m\n\u001b[1;32m     90\u001b[0m \u001b[0;32mdef\u001b[0m \u001b[0m_raise_linalgerror_nonposdef\u001b[0m\u001b[0;34m(\u001b[0m\u001b[0merr\u001b[0m\u001b[0;34m,\u001b[0m \u001b[0mflag\u001b[0m\u001b[0;34m)\u001b[0m\u001b[0;34m:\u001b[0m\u001b[0;34m\u001b[0m\u001b[0;34m\u001b[0m\u001b[0m\n",
            "\u001b[0;31mLinAlgError\u001b[0m: Singular matrix"
          ]
        }
      ]
    },
    {
      "cell_type": "code",
      "metadata": {
        "id": "_rSOJAspLAKy",
        "colab": {
          "base_uri": "https://localhost:8080/",
          "height": 340
        },
        "outputId": "7e8dd931-b9fe-40b5-b504-a06d21a123cd"
      },
      "source": [
        "A_inv = np.linalg.inv(A)"
      ],
      "execution_count": null,
      "outputs": [
        {
          "output_type": "error",
          "ename": "LinAlgError",
          "evalue": "ignored",
          "traceback": [
            "\u001b[0;31m---------------------------------------------------------------------------\u001b[0m",
            "\u001b[0;31mLinAlgError\u001b[0m                               Traceback (most recent call last)",
            "\u001b[0;32m<ipython-input-27-e7384118be37>\u001b[0m in \u001b[0;36m<module>\u001b[0;34m()\u001b[0m\n\u001b[0;32m----> 1\u001b[0;31m \u001b[0mA_inv\u001b[0m \u001b[0;34m=\u001b[0m \u001b[0mnp\u001b[0m\u001b[0;34m.\u001b[0m\u001b[0mlinalg\u001b[0m\u001b[0;34m.\u001b[0m\u001b[0minv\u001b[0m\u001b[0;34m(\u001b[0m\u001b[0mA\u001b[0m\u001b[0;34m)\u001b[0m\u001b[0;34m\u001b[0m\u001b[0;34m\u001b[0m\u001b[0m\n\u001b[0m",
            "\u001b[0;32m<__array_function__ internals>\u001b[0m in \u001b[0;36minv\u001b[0;34m(*args, **kwargs)\u001b[0m\n",
            "\u001b[0;32m/usr/local/lib/python3.7/dist-packages/numpy/linalg/linalg.py\u001b[0m in \u001b[0;36minv\u001b[0;34m(a)\u001b[0m\n\u001b[1;32m    544\u001b[0m     \u001b[0msignature\u001b[0m \u001b[0;34m=\u001b[0m \u001b[0;34m'D->D'\u001b[0m \u001b[0;32mif\u001b[0m \u001b[0misComplexType\u001b[0m\u001b[0;34m(\u001b[0m\u001b[0mt\u001b[0m\u001b[0;34m)\u001b[0m \u001b[0;32melse\u001b[0m \u001b[0;34m'd->d'\u001b[0m\u001b[0;34m\u001b[0m\u001b[0;34m\u001b[0m\u001b[0m\n\u001b[1;32m    545\u001b[0m     \u001b[0mextobj\u001b[0m \u001b[0;34m=\u001b[0m \u001b[0mget_linalg_error_extobj\u001b[0m\u001b[0;34m(\u001b[0m\u001b[0m_raise_linalgerror_singular\u001b[0m\u001b[0;34m)\u001b[0m\u001b[0;34m\u001b[0m\u001b[0;34m\u001b[0m\u001b[0m\n\u001b[0;32m--> 546\u001b[0;31m     \u001b[0mainv\u001b[0m \u001b[0;34m=\u001b[0m \u001b[0m_umath_linalg\u001b[0m\u001b[0;34m.\u001b[0m\u001b[0minv\u001b[0m\u001b[0;34m(\u001b[0m\u001b[0ma\u001b[0m\u001b[0;34m,\u001b[0m \u001b[0msignature\u001b[0m\u001b[0;34m=\u001b[0m\u001b[0msignature\u001b[0m\u001b[0;34m,\u001b[0m \u001b[0mextobj\u001b[0m\u001b[0;34m=\u001b[0m\u001b[0mextobj\u001b[0m\u001b[0;34m)\u001b[0m\u001b[0;34m\u001b[0m\u001b[0;34m\u001b[0m\u001b[0m\n\u001b[0m\u001b[1;32m    547\u001b[0m     \u001b[0;32mreturn\u001b[0m \u001b[0mwrap\u001b[0m\u001b[0;34m(\u001b[0m\u001b[0mainv\u001b[0m\u001b[0;34m.\u001b[0m\u001b[0mastype\u001b[0m\u001b[0;34m(\u001b[0m\u001b[0mresult_t\u001b[0m\u001b[0;34m,\u001b[0m \u001b[0mcopy\u001b[0m\u001b[0;34m=\u001b[0m\u001b[0;32mFalse\u001b[0m\u001b[0;34m)\u001b[0m\u001b[0;34m)\u001b[0m\u001b[0;34m\u001b[0m\u001b[0;34m\u001b[0m\u001b[0m\n\u001b[1;32m    548\u001b[0m \u001b[0;34m\u001b[0m\u001b[0m\n",
            "\u001b[0;32m/usr/local/lib/python3.7/dist-packages/numpy/linalg/linalg.py\u001b[0m in \u001b[0;36m_raise_linalgerror_singular\u001b[0;34m(err, flag)\u001b[0m\n\u001b[1;32m     86\u001b[0m \u001b[0;34m\u001b[0m\u001b[0m\n\u001b[1;32m     87\u001b[0m \u001b[0;32mdef\u001b[0m \u001b[0m_raise_linalgerror_singular\u001b[0m\u001b[0;34m(\u001b[0m\u001b[0merr\u001b[0m\u001b[0;34m,\u001b[0m \u001b[0mflag\u001b[0m\u001b[0;34m)\u001b[0m\u001b[0;34m:\u001b[0m\u001b[0;34m\u001b[0m\u001b[0;34m\u001b[0m\u001b[0m\n\u001b[0;32m---> 88\u001b[0;31m     \u001b[0;32mraise\u001b[0m \u001b[0mLinAlgError\u001b[0m\u001b[0;34m(\u001b[0m\u001b[0;34m\"Singular matrix\"\u001b[0m\u001b[0;34m)\u001b[0m\u001b[0;34m\u001b[0m\u001b[0;34m\u001b[0m\u001b[0m\n\u001b[0m\u001b[1;32m     89\u001b[0m \u001b[0;34m\u001b[0m\u001b[0m\n\u001b[1;32m     90\u001b[0m \u001b[0;32mdef\u001b[0m \u001b[0m_raise_linalgerror_nonposdef\u001b[0m\u001b[0;34m(\u001b[0m\u001b[0merr\u001b[0m\u001b[0;34m,\u001b[0m \u001b[0mflag\u001b[0m\u001b[0;34m)\u001b[0m\u001b[0;34m:\u001b[0m\u001b[0;34m\u001b[0m\u001b[0;34m\u001b[0m\u001b[0m\n",
            "\u001b[0;31mLinAlgError\u001b[0m: Singular matrix"
          ]
        }
      ]
    },
    {
      "cell_type": "code",
      "metadata": {
        "id": "FlwMsNmPN0RP",
        "colab": {
          "base_uri": "https://localhost:8080/",
          "height": 146
        },
        "outputId": "a5fe7b16-a2ce-4c87-d0ad-d72d6de101a4"
      },
      "source": [
        "import sympy\n",
        "Ab = np.column_stack((A,b)) ## Ab is called augmented matrix\n",
        "print('[A|b] =',Ab)\n",
        "print('Row reduced echelon form of [A|b] is')\n",
        "sympy.Matrix(Ab).rref()[0]"
      ],
      "execution_count": null,
      "outputs": [
        {
          "output_type": "stream",
          "name": "stdout",
          "text": [
            "[A|b] = [[ 2  3  1  9]\n",
            " [ 1  1  1 11]\n",
            " [ 4  6  2 18]]\n",
            "Row reduced echelon form of [A|b] is\n"
          ]
        },
        {
          "output_type": "execute_result",
          "data": {
            "text/latex": "$\\displaystyle \\left[\\begin{matrix}1 & 0 & 2 & 24\\\\0 & 1 & -1 & -13\\\\0 & 0 & 0 & 0\\end{matrix}\\right]$",
            "text/plain": [
              "Matrix([\n",
              "[1, 0,  2,  24],\n",
              "[0, 1, -1, -13],\n",
              "[0, 0,  0,   0]])"
            ]
          },
          "metadata": {},
          "execution_count": 28
        }
      ]
    },
    {
      "cell_type": "markdown",
      "metadata": {
        "id": "n5D0sBmVIPvt"
      },
      "source": [
        "The system of linear equations:\n",
        "\\begin{align*}\n",
        "2x+3y+z&=9\\\\\n",
        "x+y+z&=11\\\\\n",
        "4x+6y+2z&=18\n",
        "\\end{align*}\n",
        "can be reduced to the following using linear combinations of the equations:\n",
        "\\begin{align*}\n",
        "&x+&2z&=24\\\\\n",
        "&&y-z&=-13.\n",
        "\\end{align*}\n",
        "This can be derived from the row-reduced echelon form of the augmented matrix."
      ]
    },
    {
      "cell_type": "markdown",
      "metadata": {
        "id": "o38kndCOGL8L"
      },
      "source": [
        "## **No Solution**\n",
        "Consider the following system of equations\n",
        "\\begin{align*}\n",
        "2x+3y+z&=9\\\\\n",
        "x+y+z&=11\\\\\n",
        "4x+6y+2z&=15.\n",
        "\\end{align*}\n",
        "In this case $A=\\begin{bmatrix}\n",
        "2 &3 &1\\\\\n",
        "1 &1 &1\\\\\n",
        "4 &6 &2 \n",
        "\\end{bmatrix}$ and $b=\\begin{bmatrix}\n",
        "9\\\\\n",
        "11\\\\\n",
        "15\n",
        "\\end{bmatrix}$."
      ]
    },
    {
      "cell_type": "code",
      "metadata": {
        "id": "1coWrKbkIFdM",
        "colab": {
          "base_uri": "https://localhost:8080/",
          "height": 374
        },
        "outputId": "c435b4e8-ed91-41b1-a9e5-3ba0541083a0"
      },
      "source": [
        "#We entering the values of A and b\n",
        "A = np.array([[2, 3, 1], [1, 1, 1], [4, 6, 2]])\n",
        "b = np.array([9, 11, 15])\n",
        "#In order to solve a linear system of equations Ax=b, the following command can be used\n",
        "x = np.linalg.solve(A, b)"
      ],
      "execution_count": null,
      "outputs": [
        {
          "output_type": "error",
          "ename": "LinAlgError",
          "evalue": "ignored",
          "traceback": [
            "\u001b[0;31m---------------------------------------------------------------------------\u001b[0m",
            "\u001b[0;31mLinAlgError\u001b[0m                               Traceback (most recent call last)",
            "\u001b[0;32m<ipython-input-29-bb28aa883d10>\u001b[0m in \u001b[0;36m<module>\u001b[0;34m()\u001b[0m\n\u001b[1;32m      3\u001b[0m \u001b[0mb\u001b[0m \u001b[0;34m=\u001b[0m \u001b[0mnp\u001b[0m\u001b[0;34m.\u001b[0m\u001b[0marray\u001b[0m\u001b[0;34m(\u001b[0m\u001b[0;34m[\u001b[0m\u001b[0;36m9\u001b[0m\u001b[0;34m,\u001b[0m \u001b[0;36m11\u001b[0m\u001b[0;34m,\u001b[0m \u001b[0;36m15\u001b[0m\u001b[0;34m]\u001b[0m\u001b[0;34m)\u001b[0m\u001b[0;34m\u001b[0m\u001b[0;34m\u001b[0m\u001b[0m\n\u001b[1;32m      4\u001b[0m \u001b[0;31m#In order to solve a linear system of equations Ax=b, the following command can be used\u001b[0m\u001b[0;34m\u001b[0m\u001b[0;34m\u001b[0m\u001b[0;34m\u001b[0m\u001b[0m\n\u001b[0;32m----> 5\u001b[0;31m \u001b[0mx\u001b[0m \u001b[0;34m=\u001b[0m \u001b[0mnp\u001b[0m\u001b[0;34m.\u001b[0m\u001b[0mlinalg\u001b[0m\u001b[0;34m.\u001b[0m\u001b[0msolve\u001b[0m\u001b[0;34m(\u001b[0m\u001b[0mA\u001b[0m\u001b[0;34m,\u001b[0m \u001b[0mb\u001b[0m\u001b[0;34m)\u001b[0m\u001b[0;34m\u001b[0m\u001b[0;34m\u001b[0m\u001b[0m\n\u001b[0m",
            "\u001b[0;32m<__array_function__ internals>\u001b[0m in \u001b[0;36msolve\u001b[0;34m(*args, **kwargs)\u001b[0m\n",
            "\u001b[0;32m/usr/local/lib/python3.7/dist-packages/numpy/linalg/linalg.py\u001b[0m in \u001b[0;36msolve\u001b[0;34m(a, b)\u001b[0m\n\u001b[1;32m    392\u001b[0m     \u001b[0msignature\u001b[0m \u001b[0;34m=\u001b[0m \u001b[0;34m'DD->D'\u001b[0m \u001b[0;32mif\u001b[0m \u001b[0misComplexType\u001b[0m\u001b[0;34m(\u001b[0m\u001b[0mt\u001b[0m\u001b[0;34m)\u001b[0m \u001b[0;32melse\u001b[0m \u001b[0;34m'dd->d'\u001b[0m\u001b[0;34m\u001b[0m\u001b[0;34m\u001b[0m\u001b[0m\n\u001b[1;32m    393\u001b[0m     \u001b[0mextobj\u001b[0m \u001b[0;34m=\u001b[0m \u001b[0mget_linalg_error_extobj\u001b[0m\u001b[0;34m(\u001b[0m\u001b[0m_raise_linalgerror_singular\u001b[0m\u001b[0;34m)\u001b[0m\u001b[0;34m\u001b[0m\u001b[0;34m\u001b[0m\u001b[0m\n\u001b[0;32m--> 394\u001b[0;31m     \u001b[0mr\u001b[0m \u001b[0;34m=\u001b[0m \u001b[0mgufunc\u001b[0m\u001b[0;34m(\u001b[0m\u001b[0ma\u001b[0m\u001b[0;34m,\u001b[0m \u001b[0mb\u001b[0m\u001b[0;34m,\u001b[0m \u001b[0msignature\u001b[0m\u001b[0;34m=\u001b[0m\u001b[0msignature\u001b[0m\u001b[0;34m,\u001b[0m \u001b[0mextobj\u001b[0m\u001b[0;34m=\u001b[0m\u001b[0mextobj\u001b[0m\u001b[0;34m)\u001b[0m\u001b[0;34m\u001b[0m\u001b[0;34m\u001b[0m\u001b[0m\n\u001b[0m\u001b[1;32m    395\u001b[0m \u001b[0;34m\u001b[0m\u001b[0m\n\u001b[1;32m    396\u001b[0m     \u001b[0;32mreturn\u001b[0m \u001b[0mwrap\u001b[0m\u001b[0;34m(\u001b[0m\u001b[0mr\u001b[0m\u001b[0;34m.\u001b[0m\u001b[0mastype\u001b[0m\u001b[0;34m(\u001b[0m\u001b[0mresult_t\u001b[0m\u001b[0;34m,\u001b[0m \u001b[0mcopy\u001b[0m\u001b[0;34m=\u001b[0m\u001b[0;32mFalse\u001b[0m\u001b[0;34m)\u001b[0m\u001b[0;34m)\u001b[0m\u001b[0;34m\u001b[0m\u001b[0;34m\u001b[0m\u001b[0m\n",
            "\u001b[0;32m/usr/local/lib/python3.7/dist-packages/numpy/linalg/linalg.py\u001b[0m in \u001b[0;36m_raise_linalgerror_singular\u001b[0;34m(err, flag)\u001b[0m\n\u001b[1;32m     86\u001b[0m \u001b[0;34m\u001b[0m\u001b[0m\n\u001b[1;32m     87\u001b[0m \u001b[0;32mdef\u001b[0m \u001b[0m_raise_linalgerror_singular\u001b[0m\u001b[0;34m(\u001b[0m\u001b[0merr\u001b[0m\u001b[0;34m,\u001b[0m \u001b[0mflag\u001b[0m\u001b[0;34m)\u001b[0m\u001b[0;34m:\u001b[0m\u001b[0;34m\u001b[0m\u001b[0;34m\u001b[0m\u001b[0m\n\u001b[0;32m---> 88\u001b[0;31m     \u001b[0;32mraise\u001b[0m \u001b[0mLinAlgError\u001b[0m\u001b[0;34m(\u001b[0m\u001b[0;34m\"Singular matrix\"\u001b[0m\u001b[0;34m)\u001b[0m\u001b[0;34m\u001b[0m\u001b[0;34m\u001b[0m\u001b[0m\n\u001b[0m\u001b[1;32m     89\u001b[0m \u001b[0;34m\u001b[0m\u001b[0m\n\u001b[1;32m     90\u001b[0m \u001b[0;32mdef\u001b[0m \u001b[0m_raise_linalgerror_nonposdef\u001b[0m\u001b[0;34m(\u001b[0m\u001b[0merr\u001b[0m\u001b[0;34m,\u001b[0m \u001b[0mflag\u001b[0m\u001b[0;34m)\u001b[0m\u001b[0;34m:\u001b[0m\u001b[0;34m\u001b[0m\u001b[0;34m\u001b[0m\u001b[0m\n",
            "\u001b[0;31mLinAlgError\u001b[0m: Singular matrix"
          ]
        }
      ]
    },
    {
      "cell_type": "code",
      "metadata": {
        "id": "ZbRTdSzpIjf4",
        "colab": {
          "base_uri": "https://localhost:8080/",
          "height": 340
        },
        "outputId": "b4112995-6815-4836-f1d0-9b46f2596b3c"
      },
      "source": [
        "A_inv = np.linalg.inv(A)"
      ],
      "execution_count": null,
      "outputs": [
        {
          "output_type": "error",
          "ename": "LinAlgError",
          "evalue": "ignored",
          "traceback": [
            "\u001b[0;31m---------------------------------------------------------------------------\u001b[0m",
            "\u001b[0;31mLinAlgError\u001b[0m                               Traceback (most recent call last)",
            "\u001b[0;32m<ipython-input-30-e7384118be37>\u001b[0m in \u001b[0;36m<module>\u001b[0;34m()\u001b[0m\n\u001b[0;32m----> 1\u001b[0;31m \u001b[0mA_inv\u001b[0m \u001b[0;34m=\u001b[0m \u001b[0mnp\u001b[0m\u001b[0;34m.\u001b[0m\u001b[0mlinalg\u001b[0m\u001b[0;34m.\u001b[0m\u001b[0minv\u001b[0m\u001b[0;34m(\u001b[0m\u001b[0mA\u001b[0m\u001b[0;34m)\u001b[0m\u001b[0;34m\u001b[0m\u001b[0;34m\u001b[0m\u001b[0m\n\u001b[0m",
            "\u001b[0;32m<__array_function__ internals>\u001b[0m in \u001b[0;36minv\u001b[0;34m(*args, **kwargs)\u001b[0m\n",
            "\u001b[0;32m/usr/local/lib/python3.7/dist-packages/numpy/linalg/linalg.py\u001b[0m in \u001b[0;36minv\u001b[0;34m(a)\u001b[0m\n\u001b[1;32m    544\u001b[0m     \u001b[0msignature\u001b[0m \u001b[0;34m=\u001b[0m \u001b[0;34m'D->D'\u001b[0m \u001b[0;32mif\u001b[0m \u001b[0misComplexType\u001b[0m\u001b[0;34m(\u001b[0m\u001b[0mt\u001b[0m\u001b[0;34m)\u001b[0m \u001b[0;32melse\u001b[0m \u001b[0;34m'd->d'\u001b[0m\u001b[0;34m\u001b[0m\u001b[0;34m\u001b[0m\u001b[0m\n\u001b[1;32m    545\u001b[0m     \u001b[0mextobj\u001b[0m \u001b[0;34m=\u001b[0m \u001b[0mget_linalg_error_extobj\u001b[0m\u001b[0;34m(\u001b[0m\u001b[0m_raise_linalgerror_singular\u001b[0m\u001b[0;34m)\u001b[0m\u001b[0;34m\u001b[0m\u001b[0;34m\u001b[0m\u001b[0m\n\u001b[0;32m--> 546\u001b[0;31m     \u001b[0mainv\u001b[0m \u001b[0;34m=\u001b[0m \u001b[0m_umath_linalg\u001b[0m\u001b[0;34m.\u001b[0m\u001b[0minv\u001b[0m\u001b[0;34m(\u001b[0m\u001b[0ma\u001b[0m\u001b[0;34m,\u001b[0m \u001b[0msignature\u001b[0m\u001b[0;34m=\u001b[0m\u001b[0msignature\u001b[0m\u001b[0;34m,\u001b[0m \u001b[0mextobj\u001b[0m\u001b[0;34m=\u001b[0m\u001b[0mextobj\u001b[0m\u001b[0;34m)\u001b[0m\u001b[0;34m\u001b[0m\u001b[0;34m\u001b[0m\u001b[0m\n\u001b[0m\u001b[1;32m    547\u001b[0m     \u001b[0;32mreturn\u001b[0m \u001b[0mwrap\u001b[0m\u001b[0;34m(\u001b[0m\u001b[0mainv\u001b[0m\u001b[0;34m.\u001b[0m\u001b[0mastype\u001b[0m\u001b[0;34m(\u001b[0m\u001b[0mresult_t\u001b[0m\u001b[0;34m,\u001b[0m \u001b[0mcopy\u001b[0m\u001b[0;34m=\u001b[0m\u001b[0;32mFalse\u001b[0m\u001b[0;34m)\u001b[0m\u001b[0;34m)\u001b[0m\u001b[0;34m\u001b[0m\u001b[0;34m\u001b[0m\u001b[0m\n\u001b[1;32m    548\u001b[0m \u001b[0;34m\u001b[0m\u001b[0m\n",
            "\u001b[0;32m/usr/local/lib/python3.7/dist-packages/numpy/linalg/linalg.py\u001b[0m in \u001b[0;36m_raise_linalgerror_singular\u001b[0;34m(err, flag)\u001b[0m\n\u001b[1;32m     86\u001b[0m \u001b[0;34m\u001b[0m\u001b[0m\n\u001b[1;32m     87\u001b[0m \u001b[0;32mdef\u001b[0m \u001b[0m_raise_linalgerror_singular\u001b[0m\u001b[0;34m(\u001b[0m\u001b[0merr\u001b[0m\u001b[0;34m,\u001b[0m \u001b[0mflag\u001b[0m\u001b[0;34m)\u001b[0m\u001b[0;34m:\u001b[0m\u001b[0;34m\u001b[0m\u001b[0;34m\u001b[0m\u001b[0m\n\u001b[0;32m---> 88\u001b[0;31m     \u001b[0;32mraise\u001b[0m \u001b[0mLinAlgError\u001b[0m\u001b[0;34m(\u001b[0m\u001b[0;34m\"Singular matrix\"\u001b[0m\u001b[0;34m)\u001b[0m\u001b[0;34m\u001b[0m\u001b[0;34m\u001b[0m\u001b[0m\n\u001b[0m\u001b[1;32m     89\u001b[0m \u001b[0;34m\u001b[0m\u001b[0m\n\u001b[1;32m     90\u001b[0m \u001b[0;32mdef\u001b[0m \u001b[0m_raise_linalgerror_nonposdef\u001b[0m\u001b[0;34m(\u001b[0m\u001b[0merr\u001b[0m\u001b[0;34m,\u001b[0m \u001b[0mflag\u001b[0m\u001b[0;34m)\u001b[0m\u001b[0;34m:\u001b[0m\u001b[0;34m\u001b[0m\u001b[0;34m\u001b[0m\u001b[0m\n",
            "\u001b[0;31mLinAlgError\u001b[0m: Singular matrix"
          ]
        }
      ]
    },
    {
      "cell_type": "code",
      "metadata": {
        "id": "h4iGi6dDI2xa",
        "colab": {
          "base_uri": "https://localhost:8080/",
          "height": 146
        },
        "outputId": "f6135f8a-ec3b-493c-aee7-39fd16ba6790"
      },
      "source": [
        "Ab = np.column_stack((A,b))\n",
        "print(Ab)\n",
        "print('Row reduced echelon form of [A|b] is')\n",
        "sympy.Matrix(Ab).rref()[0]"
      ],
      "execution_count": null,
      "outputs": [
        {
          "output_type": "stream",
          "name": "stdout",
          "text": [
            "[[ 2  3  1  9]\n",
            " [ 1  1  1 11]\n",
            " [ 4  6  2 15]]\n",
            "Row reduced echelon form of [A|b] is\n"
          ]
        },
        {
          "output_type": "execute_result",
          "data": {
            "text/latex": "$\\displaystyle \\left[\\begin{matrix}1 & 0 & 2 & 0\\\\0 & 1 & -1 & 0\\\\0 & 0 & 0 & 1\\end{matrix}\\right]$",
            "text/plain": [
              "Matrix([\n",
              "[1, 0,  2, 0],\n",
              "[0, 1, -1, 0],\n",
              "[0, 0,  0, 1]])"
            ]
          },
          "metadata": {},
          "execution_count": 31
        }
      ]
    },
    {
      "cell_type": "markdown",
      "metadata": {
        "id": "W2Ja4zT1MGlN"
      },
      "source": [
        "The system of linear equations:\n",
        "\\begin{align*}\n",
        "2x+3y+z&=9\\\\\n",
        "x+y+z&=11\\\\\n",
        "4x+6y+2z&=15\n",
        "\\end{align*}\n",
        "can be reduced to the following using linear combinations of the equations:\n",
        "\\begin{align*}\n",
        "x+&&2z&=0\\\\\n",
        "&y-&z&=0\\\\\n",
        "0x+&0y+&0z&=1.\n",
        "\\end{align*}\n",
        "This can be derived from the row-reduced echelon form of the augmented matrix and illustrates that the sytem is inconsistent."
      ]
    }
  ]
}
