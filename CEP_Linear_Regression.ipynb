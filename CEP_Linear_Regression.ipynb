{
  "nbformat": 4,
  "nbformat_minor": 0,
  "metadata": {
    "colab": {
      "name": "CEP_Linear_Regression.ipynb",
      "provenance": [],
      "authorship_tag": "ABX9TyPOYUSqBvTSYVeV/P3p7GdA",
      "include_colab_link": true
    },
    "kernelspec": {
      "name": "python3",
      "display_name": "Python 3"
    },
    "language_info": {
      "name": "python"
    }
  },
  "cells": [
    {
      "cell_type": "markdown",
      "metadata": {
        "id": "view-in-github",
        "colab_type": "text"
      },
      "source": [
        "<a href=\"https://colab.research.google.com/github/SantyP/AIML_CEP_2021/blob/main/CEP_Linear_Regression.ipynb\" target=\"_parent\"><img src=\"https://colab.research.google.com/assets/colab-badge.svg\" alt=\"Open In Colab\"/></a>"
      ]
    },
    {
      "cell_type": "code",
      "metadata": {
        "id": "5R7evOKqqnl6"
      },
      "source": [
        "import pandas as pd\n",
        "import matplotlib.pyplot as plt\n",
        "\n",
        "\n",
        "%matplotlib inline"
      ],
      "execution_count": 2,
      "outputs": []
    },
    {
      "cell_type": "code",
      "metadata": {
        "colab": {
          "base_uri": "https://localhost:8080/",
          "height": 266
        },
        "id": "_ZvkCjqnq5_J",
        "outputId": "93aa5e38-0cb3-4274-95b3-f0a1a811500e"
      },
      "source": [
        "#get the data from web\n",
        "\n",
        "drug_vs_mathscrore_data = pd.read_csv('http://users.stat.ufl.edu/~winner/data/lsd.dat', delim_whitespace=True, index_col=False, header=None)\n",
        "\n",
        "drug_vs_mathscrore_data"
      ],
      "execution_count": 3,
      "outputs": [
        {
          "output_type": "execute_result",
          "data": {
            "text/html": [
              "<div>\n",
              "<style scoped>\n",
              "    .dataframe tbody tr th:only-of-type {\n",
              "        vertical-align: middle;\n",
              "    }\n",
              "\n",
              "    .dataframe tbody tr th {\n",
              "        vertical-align: top;\n",
              "    }\n",
              "\n",
              "    .dataframe thead th {\n",
              "        text-align: right;\n",
              "    }\n",
              "</style>\n",
              "<table border=\"1\" class=\"dataframe\">\n",
              "  <thead>\n",
              "    <tr style=\"text-align: right;\">\n",
              "      <th></th>\n",
              "      <th>0</th>\n",
              "      <th>1</th>\n",
              "    </tr>\n",
              "  </thead>\n",
              "  <tbody>\n",
              "    <tr>\n",
              "      <th>0</th>\n",
              "      <td>1.17</td>\n",
              "      <td>78.93</td>\n",
              "    </tr>\n",
              "    <tr>\n",
              "      <th>1</th>\n",
              "      <td>2.97</td>\n",
              "      <td>58.20</td>\n",
              "    </tr>\n",
              "    <tr>\n",
              "      <th>2</th>\n",
              "      <td>3.26</td>\n",
              "      <td>67.47</td>\n",
              "    </tr>\n",
              "    <tr>\n",
              "      <th>3</th>\n",
              "      <td>4.69</td>\n",
              "      <td>37.47</td>\n",
              "    </tr>\n",
              "    <tr>\n",
              "      <th>4</th>\n",
              "      <td>5.83</td>\n",
              "      <td>45.65</td>\n",
              "    </tr>\n",
              "    <tr>\n",
              "      <th>5</th>\n",
              "      <td>6.00</td>\n",
              "      <td>32.92</td>\n",
              "    </tr>\n",
              "    <tr>\n",
              "      <th>6</th>\n",
              "      <td>6.41</td>\n",
              "      <td>29.97</td>\n",
              "    </tr>\n",
              "  </tbody>\n",
              "</table>\n",
              "</div>"
            ],
            "text/plain": [
              "      0      1\n",
              "0  1.17  78.93\n",
              "1  2.97  58.20\n",
              "2  3.26  67.47\n",
              "3  4.69  37.47\n",
              "4  5.83  45.65\n",
              "5  6.00  32.92\n",
              "6  6.41  29.97"
            ]
          },
          "metadata": {},
          "execution_count": 3
        }
      ]
    },
    {
      "cell_type": "code",
      "metadata": {
        "colab": {
          "base_uri": "https://localhost:8080/"
        },
        "id": "KRb-4d6GsTj4",
        "outputId": "380717ec-6600-4efc-ccda-a8cc25d939b4"
      },
      "source": [
        "# import data description file\n",
        "import urllib.request\n",
        "drug_vs_mathscrore_data_desc = urllib.request.urlopen('http://users.stat.ufl.edu/~winner/data/lsd.txt')\n",
        "\n",
        "for line in drug_vs_mathscrore_data_desc:\n",
        "  decoded = line.decode\n",
        "  print(line)"
      ],
      "execution_count": null,
      "outputs": [
        {
          "output_type": "stream",
          "name": "stdout",
          "text": [
            "b'Dataset:  lsd.dat\\n'\n",
            "b'Source: Wagner, Agahajanian, and Bing (1968). Correlation of Performance\\n'\n",
            "b'Test Scores with Tissue Concentration of Lysergic Acid Diethylamide in\\n'\n",
            "b'Human Subjects. Clinical Pharmacology and Therapeutics, Vol.9 pp635-638.\\n'\n",
            "b'\\n'\n",
            "b'Description: Group of volunteers was given LSD, their mean scores on\\n'\n",
            "b'math exam and tissue concentrations of LSD were obtained at n=7 time points.\\n'\n",
            "b'\\n'\n",
            "b'Variables/Columns\\n'\n",
            "b'\\n'\n",
            "b'Tissue Concentration    1-4\\n'\n",
            "b'Math Score             8-12\\n'\n"
          ]
        }
      ]
    },
    {
      "cell_type": "code",
      "metadata": {
        "colab": {
          "base_uri": "https://localhost:8080/",
          "height": 204
        },
        "id": "5ey_8fm-tO77",
        "outputId": "b26e580e-a0c8-48f5-bc33-826391204b10"
      },
      "source": [
        "# having known the data description, let us insert the description into the data now\n",
        "drug_vs_mathscrore_data.columns = ['Tissue concentation', 'Math score']\n",
        "\n",
        "drug_vs_mathscrore_data.head()"
      ],
      "execution_count": null,
      "outputs": [
        {
          "output_type": "execute_result",
          "data": {
            "text/html": [
              "<div>\n",
              "<style scoped>\n",
              "    .dataframe tbody tr th:only-of-type {\n",
              "        vertical-align: middle;\n",
              "    }\n",
              "\n",
              "    .dataframe tbody tr th {\n",
              "        vertical-align: top;\n",
              "    }\n",
              "\n",
              "    .dataframe thead th {\n",
              "        text-align: right;\n",
              "    }\n",
              "</style>\n",
              "<table border=\"1\" class=\"dataframe\">\n",
              "  <thead>\n",
              "    <tr style=\"text-align: right;\">\n",
              "      <th></th>\n",
              "      <th>Tissue concentation</th>\n",
              "      <th>Math score</th>\n",
              "    </tr>\n",
              "  </thead>\n",
              "  <tbody>\n",
              "    <tr>\n",
              "      <th>0</th>\n",
              "      <td>1.17</td>\n",
              "      <td>78.93</td>\n",
              "    </tr>\n",
              "    <tr>\n",
              "      <th>1</th>\n",
              "      <td>2.97</td>\n",
              "      <td>58.20</td>\n",
              "    </tr>\n",
              "    <tr>\n",
              "      <th>2</th>\n",
              "      <td>3.26</td>\n",
              "      <td>67.47</td>\n",
              "    </tr>\n",
              "    <tr>\n",
              "      <th>3</th>\n",
              "      <td>4.69</td>\n",
              "      <td>37.47</td>\n",
              "    </tr>\n",
              "    <tr>\n",
              "      <th>4</th>\n",
              "      <td>5.83</td>\n",
              "      <td>45.65</td>\n",
              "    </tr>\n",
              "  </tbody>\n",
              "</table>\n",
              "</div>"
            ],
            "text/plain": [
              "   Tissue concentation  Math score\n",
              "0                 1.17       78.93\n",
              "1                 2.97       58.20\n",
              "2                 3.26       67.47\n",
              "3                 4.69       37.47\n",
              "4                 5.83       45.65"
            ]
          },
          "metadata": {},
          "execution_count": 9
        }
      ]
    },
    {
      "cell_type": "code",
      "metadata": {
        "colab": {
          "base_uri": "https://localhost:8080/",
          "height": 295
        },
        "id": "xqks8jPMt3Ni",
        "outputId": "a88c61e1-f0c1-4b96-c51f-85631108191a"
      },
      "source": [
        "plt.scatter(drug_vs_mathscrore_data['Tissue concentation'], drug_vs_mathscrore_data['Math score'])\n",
        "#plt.scatter(drug_vs_mathscrore_data.iloc[:,0], drug_vs_mathscrore_data.iloc[:,1])\n",
        "plt.title(\"Tissue drug concentation vs Math score\")\n",
        "plt.xlabel('Tissue concentation')\n",
        "plt.ylabel('Math scores')\n",
        "plt.show()"
      ],
      "execution_count": null,
      "outputs": [
        {
          "output_type": "display_data",
          "data": {
            "image/png": "[encoded data removed]",
            "text/plain": [
              "<Figure size 432x288 with 1 Axes>"
            ]
          },
          "metadata": {
            "needs_background": "light"
          }
        }
      ]
    },
    {
      "cell_type": "code",
      "metadata": {
        "colab": {
          "base_uri": "https://localhost:8080/"
        },
        "id": "h7Tzc2AswrV1",
        "outputId": "4d1bb4af-ab5d-4de9-c8f4-34d2aecf0cec"
      },
      "source": [
        "n = len(drug_vs_mathscrore_data.index)\n",
        "print('number of data points in the data set:', n)"
      ],
      "execution_count": null,
      "outputs": [
        {
          "output_type": "stream",
          "name": "stdout",
          "text": [
            "number of data points in the data set: 7\n"
          ]
        }
      ]
    },
    {
      "cell_type": "code",
      "metadata": {
        "colab": {
          "base_uri": "https://localhost:8080/"
        },
        "id": "7rx_agg87i25",
        "outputId": "465b613c-b632-4938-fec4-29511fd8a69c"
      },
      "source": [
        "x_bar = 0\n",
        "y_bar = 0\n",
        "\n",
        "for i in range(n):\n",
        "  x_bar += float(drug_vs_mathscrore_data.iat[i,0])\n",
        "  y_bar += float(drug_vs_mathscrore_data.iat[i,1])\n",
        "\n",
        "x_bar /= n\n",
        "y_bar /= n\n",
        "print('x bar => ', x_bar, 'y_bar => ' , y_bar)\n"
      ],
      "execution_count": null,
      "outputs": [
        {
          "output_type": "stream",
          "name": "stdout",
          "text": [
            "x bar =>  4.332857142857143 y_bar =>  50.08714285714286\n"
          ]
        }
      ]
    }
  ]
}